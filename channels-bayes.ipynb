{
 "cells": [
  {
   "cell_type": "code",
   "execution_count": 1,
   "id": "25c85bd6-b52f-4661-bf3a-c7162ec351c0",
   "metadata": {},
   "outputs": [],
   "source": [
    "from qpe import *\n",
    "from numpy import log\n",
    "\n",
    "import qutip as qp\n",
    "from time import time\n",
    "\n",
    "from numpy import sign, ceil\n",
    "from numpy.random import randint\n",
    "\n",
    "from scipy.stats import unitary_group, gaussian_kde\n",
    "from scipy.integrate import quad\n",
    "\n",
    "import matplotlib\n",
    "import matplotlib.pyplot as plt\n",
    "from matplotlib.colors import LinearSegmentedColormap\n",
    "matplotlib.rcParams['font.family']='serif'\n",
    "matplotlib.rcParams['axes.unicode_minus']=False\n",
    "matplotlib.rcParams.update({'font.size': 22})\n",
    "matplotlib.rc('text', usetex=True)"
   ]
  },
  {
   "cell_type": "code",
   "execution_count": 2,
   "id": "878611eb-c0ac-40d4-aa7e-fd00ac791cf4",
   "metadata": {},
   "outputs": [],
   "source": [
    "def aux_info_exact(pars, a, b, channel_func, channel_args, prior_func, prior_args, dm_ini, n_layers, labels, n_copies=1, n_meas=0, dp=1e-5):\n",
    "    \"\"\" For the optimized variables theta and x,\n",
    "    calculates the expectations expecs, their derivatives excepcs_der,\n",
    "    their variances disps, and quantum and classical Fisher informations. \"\"\"\n",
    "\n",
    "    n_inp = int(log2(len(dm_ini)))\n",
    "    n_tot = n_inp*n_copies\n",
    "    if n_meas == 0:\n",
    "        n_meas = n_tot\n",
    "    \n",
    "    pars_ans = pars[:-2**n_meas]\n",
    "    pars_est = pars[-2**n_meas:]\n",
    "    \n",
    "    U = hea_cry_rzrx(n_tot, n_layers, pars_ans)\n",
    "    projs = [reduce(kron, [diag(line), eye(2**(n_tot - n_meas))]) for line in eye(2**n_meas)]\n",
    "    projs_u = [U.conj().T@proj@U for proj in projs]\n",
    "    H = sum([x*proj for x, proj in zip(pars_est, projs_u)])\n",
    "\n",
    "    ### calculations for tha van Trees inequality; unused ###\n",
    "    # def func_F(phi):\n",
    "    #     CFI = cfi(channel_func, dm_ini, phi, channel_args, projs_u, n_copies=n_copies, n_ext=0, dp=dp)\n",
    "    #     return CFI*prior_func(phi, *prior_args)\n",
    "    # def func_I(phi):\n",
    "    #     prior_der = (prior_func(phi + dp, *prior_args) - prior_func(phi - dp, *prior_args))/(2*dp)\n",
    "    #     return prior_der**2/prior_func(phi, *prior_args)\n",
    "\n",
    "    # int_F = quad(func_F, a, b)[0]\n",
    "    # int_I = quad(func_I, a, b)[0]\n",
    "    # CRB = 1/(int_F + int_I)\n",
    "\n",
    "    dms = []\n",
    "    dms_der = []\n",
    "    for p in labels:\n",
    "        dm = reduce(kron, [channel_func(dm_ini, p, *channel_args)]*n_copies)\n",
    "        dm_p = reduce(kron, [channel_func(dm_ini, p+dp, *channel_args)]*n_copies)\n",
    "        dm_m = reduce(kron, [channel_func(dm_ini, p-dp, *channel_args)]*n_copies)\n",
    "        dm_der = (dm_p - dm_m)/(2*dp)\n",
    "        dms.append(dm)\n",
    "        dms_der.append(dm_der)\n",
    "\n",
    "    expecs = []\n",
    "    expecs_der = []\n",
    "    disps = []\n",
    "    for j in range(len(labels)): # take a density matrix from the training set\n",
    "        probs = [trace(dms[j]@proj).real for proj in projs_u]\n",
    "        probs_der = [trace(dms_der[j]@proj).real for proj in projs_u]\n",
    "        expec = sum([out_i*prob_i for out_i, prob_i in zip(pars_est, probs)])\n",
    "        expec_der = sum([out*prob_der for out, prob_der in zip(pars_est, probs_der)])\n",
    "        disp = sum([out_i**2*prob_i for out_i, prob_i in zip(pars_est, probs)]) - expec**2\n",
    "        expecs.append(expec)\n",
    "        expecs_der.append(expec_der)\n",
    "        disps.append(disp)\n",
    "    \n",
    "    return array(expecs), array(expecs_der), array(disps)#, CRB, int_F, int_I, H"
   ]
  },
  {
   "cell_type": "code",
   "execution_count": 3,
   "id": "8df62316-41a9-4618-800f-7028fbcc1411",
   "metadata": {},
   "outputs": [],
   "source": [
    "def train_bayes_exact(n_layers, a, b, prior_func, prior_args=[], n_copies=1, n_meas=0, method=\"BFGS\", x0=None, options={}):\n",
    "\n",
    "    n_inp = int(log2(len(dms[0])))\n",
    "    n_tot = n_inp*n_copies\n",
    "    d = 2**n_tot\n",
    "        \n",
    "    if n_meas == 0:\n",
    "        n_meas = n_tot\n",
    "    n_pars_est = 2**n_meas\n",
    "    n_pars_ans = (3*n_tot - 1)*n_layers + 2*n_tot # cry  \n",
    "    \n",
    "    d_diff = 0 if n_tot == n_meas else 2**(n_tot - n_meas)\n",
    "    \n",
    "    dms_cop = [reduce(kron, [dm]*n_copies) for dm in dms]\n",
    "\n",
    "    def fun_int(phi, x_est, U):\n",
    "        dm = channel_func(dm_ini, phi, *channel_args)\n",
    "        dm = reduce(kron, [dm]*n_copies)\n",
    "        dm_u = U@dm@U.conj().T\n",
    "        probs = dm_u.diagonal().real\n",
    "        return np.sum((x_est - phi)**2*probs*prior_func(phi, *prior_args))\n",
    "    \n",
    "    fvals = []\n",
    "    fval_cont = [0]\n",
    "    def fun(x):\n",
    "        x_ans, x_est = x[:n_pars_ans], x[n_pars_ans:]\n",
    "        U = hea_cry_rzrx(n_tot, n_layers, x_ans)\n",
    "        f = quad(fun_int, a, b, args=(x_est, U))[0]\n",
    "        fval_cont[0] = f\n",
    "        return f\n",
    "        \n",
    "    def callback(x):\n",
    "        fvals.append(fval_cont[0])\n",
    "        print(\"Iteration: %d | Function value: %.8f\" %(len(fvals), fval_cont[0]), end=\"\\r\")\n",
    "        return None\n",
    "    \n",
    "    if method in [\"Nelder-Mead\", \"L-BFGS-B\", \"SLSQP\", \"TNC\", \"Powell\", \"COBYLA\"]:\n",
    "        bounds = [(0, pi)]*n_pars_ans + [(-10, 10)]*n_pars_est\n",
    "    else:\n",
    "        bounds = None\n",
    "    if x0 is None:\n",
    "        x0_ans = normal(pi, 0.01*pi, n_pars_ans)\n",
    "        x0_est = normal(0, 0.01, n_pars_est)\n",
    "        x0 = concatenate([x0_ans, x0_est])\n",
    "    \n",
    "    optimization_result = minimize(fun=fun, x0=x0, bounds=bounds, method=method, callback=callback, options=options) # \"maxiter\": int(1e10)\n",
    "\n",
    "    return fvals, optimization_result"
   ]
  },
  {
   "cell_type": "markdown",
   "id": "4c17ff8a-0d1b-48f3-bb1c-fdd03b3f2053",
   "metadata": {},
   "source": [
    "# Single copy"
   ]
  },
  {
   "cell_type": "code",
   "execution_count": 4,
   "id": "0a30e4fe-96e3-42b8-861e-6c59356f9db1",
   "metadata": {
    "tags": []
   },
   "outputs": [],
   "source": [
    "# channel_func = generalized_amplitude_damping_channel; channel_args = [0, 0]; channel_name = \"ad\"\n",
    "# channel_func = z_rot; channel_args = [0]; channel_name = \"zrot\"\n",
    "channel_func = depolarizing_channel; channel_args = []; channel_name = \"depolarizing\"\n",
    "\n",
    "# sv_ini = array(rand_ket(2))\n",
    "# dm_ini = outer(sv_ini, sv_ini.conj().T)\n",
    "# dm_ini = array(qp.rand_dm_hs(2))\n",
    "# dm_ini = eye(2)/2\n",
    "dm_ini = (eye(2) + X)/2\n",
    "# dm_ini = (eye(2) + Z)/2"
   ]
  },
  {
   "cell_type": "code",
   "execution_count": 24,
   "id": "5c675048-e23b-4508-be44-7c576c901aa6",
   "metadata": {},
   "outputs": [],
   "source": [
    "a = 0 + 1e-3\n",
    "b = 4/3 - 1e-3\n",
    "T = 15\n",
    "\n",
    "labels = linspace(a, b, T)#[1:-1]\n",
    "dms = [channel_func(dm_ini, p, *channel_args) for p in labels]"
   ]
  },
  {
   "cell_type": "code",
   "execution_count": 25,
   "id": "9014620c-d6d8-473c-a3fa-59ab5d98fc40",
   "metadata": {},
   "outputs": [
    {
     "name": "stdout",
     "output_type": "stream",
     "text": [
      "Iteration: 16 | Function value: 0.12316049\n",
      " Optimization terminated successfully.\n"
     ]
    }
   ],
   "source": [
    "method = \"BFGS\"\n",
    "n_copies = 1\n",
    "n_inp = int(log2(len(dm_ini)))\n",
    "n_meas = n_inp*n_copies\n",
    "n_layers = 1\n",
    "\n",
    "dp = 1e-5\n",
    "\n",
    "dphi = 1/sqrt(2)\n",
    "prior_func = lambda p: 1/(b - a); prior_args = []\n",
    "# prior_func = lambda phi: exp(-(phi**2)/(2*dphi)**2)/sqrt(2*pi*dphi**2); prior_args = []\n",
    "\n",
    "x0 = concatenate([uniform(0, 2*pi, (3*n_inp*n_copies - 1)*n_layers + 2*n_inp*n_copies), normal(0., 1, 2**n_meas)])\n",
    "\n",
    "fvals, result = train_bayes_exact(n_layers, a, b, prior_func, prior_args, n_copies=n_copies, n_meas=n_meas, method=method, x0=x0, options={})\n",
    "pars = result.x\n",
    "\n",
    "print(\"\\n\", result.message)"
   ]
  },
  {
   "cell_type": "code",
   "execution_count": 26,
   "id": "8478257d-6b19-439e-9da5-d4d82d76e64e",
   "metadata": {},
   "outputs": [],
   "source": [
    "expecs, expecs_der, disps = aux_info_exact(pars, a, b, channel_func, channel_args, prior_func, prior_args, dm_ini, n_layers, labels, n_copies=n_copies, n_meas=n_meas, dp=dp)"
   ]
  },
  {
   "cell_type": "code",
   "execution_count": 27,
   "id": "34cce786-ceda-48e9-8891-c71718f6b15a",
   "metadata": {},
   "outputs": [
    {
     "name": "stdout",
     "output_type": "stream",
     "text": [
      "n_inp: 1 | n_copies: 1 | n_meas: 1 | n_layers: 1 \n"
     ]
    },
    {
     "data": {
      "image/png": "[encoded data removed]",
      "text/plain": [
       "<Figure size 700x400 with 1 Axes>"
      ]
     },
     "metadata": {},
     "output_type": "display_data"
    },
    {
     "data": {
      "image/png": "[encoded data removed]",
      "text/plain": [
       "<Figure size 700x400 with 1 Axes>"
      ]
     },
     "metadata": {},
     "output_type": "display_data"
    }
   ],
   "source": [
    "print(\"n_inp: %d | n_copies: %d | n_meas: %d | n_layers: %d \" %(n_inp, n_copies, n_meas, n_layers))\n",
    "\n",
    "matplotlib.rcParams.update({'font.size': 20})\n",
    "\n",
    "plt.figure(figsize=(7, 4))\n",
    "# plt.plot(labels, expecs, zorder=10)\n",
    "plt.scatter(labels, expecs, s=100, zorder=10)\n",
    "plt.plot(labels, labels, color=\"black\", linewidth=0.5)\n",
    "plt.xlabel(r\"$\\alpha$\")\n",
    "plt.ylabel(r\"$\\mathsf{a}$\")\n",
    "# plt.xticks([0, 1/3, 2/3, 3/3, 4/3], [r\"$0$\", r\"$1/3$\", r\"$2/3$\", r\"$1$\", r\"$4/3$\"]) # for the depolarizing channel\n",
    "# plt.yticks([0, 1/3, 2/3, 3/3, 4/3], [r\"$0$\", r\"$1/3$\", r\"$2/3$\", r\"$1$\", r\"$4/3$\"]) # for the depolarizing channel\n",
    "plt.grid()\n",
    "plt.tight_layout()\n",
    "# plt.savefig(save_path + file_info + \"-est.pdf\", transparent=True, bbox_inches='tight')\n",
    "plt.show()\n",
    "\n",
    "plt.figure(figsize=(7, 4))\n",
    "plt.scatter(labels, disps/expecs_der**2, s=100, zorder=10)\n",
    "plt.ylabel(r\"$\\frac{\\Delta^2 H}{\\left|\\partial_\\alpha \\langle H \\rangle \\right|^2}$\" )\n",
    "plt.xlabel(r\"$\\alpha$\")\n",
    "# plt.xticks([0, 1/3, 2/3, 3/3, 4/3], [r\"$0$\", r\"$1/3$\", r\"$2/3$\", r\"$1$\", r\"$4/3$\"]) # for the depolarizing channel\n",
    "plt.grid()\n",
    "# plt.legend(framealpha=1)\n",
    "plt.tight_layout()\n",
    "# plt.savefig(save_path + file_info + \"-var.pdf\", transparent=True, bbox_inches='tight')\n",
    "# plt.yscale(\"log\")\n",
    "plt.show()"
   ]
  },
  {
   "cell_type": "code",
   "execution_count": 28,
   "id": "7245c8c6-b856-41be-bbc8-cc0a893683a8",
   "metadata": {},
   "outputs": [
    {
     "data": {
      "text/plain": [
       "array([0.55605631, 0.57185782, 0.58765934, 0.60346085, 0.61926236,\n",
       "       0.63506388, 0.65086539, 0.66666691, 0.68246842, 0.69826994,\n",
       "       0.71407145, 0.72987297, 0.74567448, 0.761476  , 0.77727751])"
      ]
     },
     "execution_count": 28,
     "metadata": {},
     "output_type": "execute_result"
    }
   ],
   "source": [
    "expecs"
   ]
  },
  {
   "cell_type": "code",
   "execution_count": 29,
   "id": "5c4373e4-9479-4aeb-bb71-d018fc26d604",
   "metadata": {},
   "outputs": [
    {
     "data": {
      "text/plain": [
       "array([0.16616515, 0.16616515, 0.16616515, 0.16616515, 0.16616515,\n",
       "       0.16616515, 0.16616515, 0.16616515, 0.16616515, 0.16616515,\n",
       "       0.16616515, 0.16616515, 0.16616515, 0.16616515, 0.16616515])"
      ]
     },
     "execution_count": 29,
     "metadata": {},
     "output_type": "execute_result"
    }
   ],
   "source": [
    "expecs_der"
   ]
  },
  {
   "cell_type": "code",
   "execution_count": 30,
   "id": "abd187ec-67ad-4bba-af06-1d94cbe76878",
   "metadata": {},
   "outputs": [
    {
     "data": {
      "text/plain": [
       "array([5.51942524e-05, 5.05157715e-03, 9.54858432e-03, 1.35462158e-02,\n",
       "       1.70444715e-02, 2.00433515e-02, 2.25428558e-02, 2.45429843e-02,\n",
       "       2.60437372e-02, 2.70451143e-02, 2.75471157e-02, 2.75497413e-02,\n",
       "       2.70529913e-02, 2.60568655e-02, 2.45613640e-02])"
      ]
     },
     "execution_count": 30,
     "metadata": {},
     "output_type": "execute_result"
    }
   ],
   "source": [
    "disps"
   ]
  },
  {
   "cell_type": "code",
   "execution_count": null,
   "id": "9221398e-e375-4c3d-b6f9-e3e38ddf7c80",
   "metadata": {},
   "outputs": [],
   "source": []
  },
  {
   "cell_type": "code",
   "execution_count": null,
   "id": "7456c52d-9dbf-4374-99fe-ade7317c262a",
   "metadata": {},
   "outputs": [],
   "source": []
  },
  {
   "cell_type": "code",
   "execution_count": null,
   "id": "bb78e111-cb36-4544-92bf-f1ccf6a04673",
   "metadata": {},
   "outputs": [],
   "source": []
  },
  {
   "cell_type": "code",
   "execution_count": null,
   "id": "c66cd1b7-57ae-4176-bb3a-155ff97bdbe9",
   "metadata": {},
   "outputs": [],
   "source": []
  },
  {
   "cell_type": "code",
   "execution_count": null,
   "id": "1aa3b194-cb47-4fd3-b214-ac4f7ab892fb",
   "metadata": {},
   "outputs": [],
   "source": []
  },
  {
   "cell_type": "code",
   "execution_count": null,
   "id": "310c8ab2-fb6e-48b5-9735-50392436fe2d",
   "metadata": {},
   "outputs": [],
   "source": []
  },
  {
   "cell_type": "code",
   "execution_count": 12,
   "id": "1aebde13-8040-4651-9711-02ef5481efba",
   "metadata": {},
   "outputs": [],
   "source": [
    "### calculations for tha van Trees inequality; unused ###\n",
    "\n",
    "# method = \"BFGS\"\n",
    "# n_copies = 1\n",
    "# n_inp = int(log2(len(dm_ini)))\n",
    "# n_meas = n_inp*n_copies\n",
    "# n_layers = 1\n",
    "\n",
    "# dp = 1e-2\n",
    "# x0 = concatenate([uniform(0, 2*pi, (3*n_inp*n_copies - 1)*n_layers + 2*n_inp*n_copies), normal(0., 1, 2**n_meas)])\n",
    "# prior_func = lambda phi, dphi: exp(-(phi**2)/(2*dphi)**2)/sqrt(2*pi*dphi**2); prior_args = [dphi]\n",
    "\n",
    "# a = -pi - 1e-2\n",
    "# b = pi + 1e-2\n",
    "# dphi_list = linspace(0.075, 1, 20)\n",
    "# mse_list = []\n",
    "# CRB_list = []\n",
    "# int_F_list = []\n",
    "# int_I_list = []\n",
    "# for dphi in dphi_list:\n",
    "#     print(dphi)\n",
    "#     print()\n",
    "#     prior_args = [dphi]\n",
    "#     fvals, result = train_bayes_exact(n_layers, a, b, prior_func, prior_args, n_copies=n_copies, n_meas=n_meas, method=method, x0=x0, options={})\n",
    "#     pars = result.x\n",
    "#     expecs, expecs_der, disps, CRB, int_F, int_I, H = aux_info_exact(pars, a, b, channel_func, channel_args, prior_func, prior_args, dm_ini, n_layers, labels, n_copies=n_copies, n_meas=n_meas, dp=dp)\n",
    "#     mse_list.append(result.fun)\n",
    "#     CRB_list.append(CRB)\n",
    "#     int_F_list.append(int_F)\n",
    "#     int_I_list.append(int_I)\n",
    "#     print()"
   ]
  }
 ],
 "metadata": {
  "kernelspec": {
   "display_name": "Python 3",
   "language": "python",
   "name": "python3"
  },
  "language_info": {
   "codemirror_mode": {
    "name": "ipython",
    "version": 3
   },
   "file_extension": ".py",
   "mimetype": "text/x-python",
   "name": "python",
   "nbconvert_exporter": "python",
   "pygments_lexer": "ipython3",
   "version": "3.11.7"
  }
 },
 "nbformat": 4,
 "nbformat_minor": 5
}
