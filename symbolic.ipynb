{
 "cells": [
  {
   "cell_type": "code",
   "execution_count": 8,
   "id": "998939a2-40fe-420a-9b42-a9f6e131c87e",
   "metadata": {},
   "outputs": [],
   "source": [
    "import numpy as np\n",
    "from numpy import dot, kron, outer, array, zeros, diag\n",
    "from numpy.random import uniform\n",
    "from functools import reduce\n",
    "from itertools import product\n",
    "from sympy import Symbol, simplify, trigsimp, Matrix, sin, cos, trace, im, sqrt, diff, exp\n",
    "from scipy.linalg import eigh, norm, det\n",
    "from sympy.physics.quantum import TensorProduct, OuterProduct\n",
    "from sympy.physics.vector import outer"
   ]
  },
  {
   "cell_type": "code",
   "execution_count": 9,
   "id": "c09aef9f-4d3f-4567-be4c-ea9a92e9a37d",
   "metadata": {},
   "outputs": [],
   "source": [
    "s0 = array([1, 0])\n",
    "s1 = array([0, 1])\n",
    "X = np.array([[0.,1.],\n",
    "              [1.,0.]]) # X Pauli matrix\n",
    "Y = np.array([[0.,-1.j],\n",
    "              [1.j, 0.]]) # Y Pauli matrix\n",
    "Z = np.array([[1., 0.],\n",
    "              [0.,-1.]]) # Z Pauli matrix\n",
    "I = np.array([[1.,0.],\n",
    "              [0.,1.]]) # 2x2 identity matrix\n",
    "P0 = (I + Z)/2\n",
    "P1 = (I - Z)/2\n",
    "PP = (I + X)/2\n",
    "PM = (I - X)/2\n",
    "RP = np.outer(np.array([-1j, 1])/np.sqrt(2), np.array([1j, 1])/np.sqrt(2))\n",
    "RM = np.outer(np.array([1j, 1])/np.sqrt(2), np.array([-1j, 1])/np.sqrt(2))"
   ]
  },
  {
   "cell_type": "markdown",
   "id": "71560602-525c-496b-8a04-c947f0ed9b9b",
   "metadata": {
    "tags": []
   },
   "source": [
    "# Depolarizing"
   ]
  },
  {
   "cell_type": "markdown",
   "id": "1c435bb5-98b3-4a7d-a7ed-9f810978a188",
   "metadata": {},
   "source": [
    "## Expectation"
   ]
  },
  {
   "cell_type": "code",
   "execution_count": 43,
   "id": "7ebbfeb1-0fa0-434d-b1be-6620c47d4a75",
   "metadata": {},
   "outputs": [],
   "source": [
    "a = Symbol(\"a\")\n",
    "r1, r2, r3 = Symbol(\"r_1\"), Symbol(\"r_2\"), Symbol(\"r_3\")\n",
    "h0, h1, h2, h3 = Symbol(\"h_0\"), Symbol(\"h_1\"), Symbol(\"h_2\"), Symbol(\"h_3\")\n",
    "x0, x1 = Symbol(\"x_0\"), Symbol(\"x_1\")\n",
    "\n",
    "R = Matrix(1/2*(I + r1*X + r2*Y + r3*Z))\n",
    "H = Matrix(h0*I + h1*X + h2*Y + h3*Z)\n",
    "\n",
    "Ra = (1 - a)*R + a*I/2"
   ]
  },
  {
   "cell_type": "code",
   "execution_count": 44,
   "id": "01ff926d-ce3e-4523-8271-8946170b3c6f",
   "metadata": {},
   "outputs": [
    {
     "data": {
      "text/latex": [
       "$\\displaystyle - 1.0 a h_{1} r_{1} - 1.0 a h_{2} r_{2} - 1.0 a h_{3} r_{3} + 1.0 h_{0} + 1.0 h_{1} r_{1} + 1.0 h_{2} r_{2} + 1.0 h_{3} r_{3}$"
      ],
      "text/plain": [
       "-1.0*a*h_1*r_1 - 1.0*a*h_2*r_2 - 1.0*a*h_3*r_3 + 1.0*h_0 + 1.0*h_1*r_1 + 1.0*h_2*r_2 + 1.0*h_3*r_3"
      ]
     },
     "execution_count": 44,
     "metadata": {},
     "output_type": "execute_result"
    }
   ],
   "source": [
    "expec = trace(Ra@H)\n",
    "simplify(expec)"
   ]
  },
  {
   "cell_type": "code",
   "execution_count": 54,
   "id": "5b443a1e-e964-47a5-af89-413b119e8931",
   "metadata": {},
   "outputs": [
    {
     "data": {
      "text/latex": [
       "$\\displaystyle 1.0 a$"
      ],
      "text/plain": [
       "1.0*a"
      ]
     },
     "execution_count": 54,
     "metadata": {},
     "output_type": "execute_result"
    }
   ],
   "source": [
    "simplify(expec.subs([(h0, 1), (h1, -1), (h2, h2), (h3, h3), (r1, 1), (r2, 0), (r3, 0)]))"
   ]
  },
  {
   "cell_type": "code",
   "execution_count": 55,
   "id": "5627beb1-1b41-4edc-b05d-7553f9b339a1",
   "metadata": {},
   "outputs": [
    {
     "data": {
      "text/latex": [
       "$\\displaystyle 1.0 a + 1.11022302462516 \\cdot 10^{-16}$"
      ],
      "text/plain": [
       "1.0*a + 1.11022302462516e-16"
      ]
     },
     "execution_count": 55,
     "metadata": {},
     "output_type": "execute_result"
    }
   ],
   "source": [
    "simplify(expec.subs([(h0, 1), (h1, -1/(r1*3)), (h2, -1/(r2*3)), (h3, -1/(r3*3))]))"
   ]
  },
  {
   "cell_type": "code",
   "execution_count": 56,
   "id": "bcad8806-d71c-4f76-b632-4578290eb28c",
   "metadata": {},
   "outputs": [
    {
     "data": {
      "text/latex": [
       "$\\displaystyle - 2.0 a h_{0} h_{1} r_{1} - 2.0 a h_{0} h_{2} r_{2} - 2.0 a h_{0} h_{3} r_{3} + 1.0 h_{0}^{2} + 2.0 h_{0} h_{1} r_{1} + 2.0 h_{0} h_{2} r_{2} + 2.0 h_{0} h_{3} r_{3} + 1.0 h_{1}^{2} + 1.0 h_{2}^{2} + 1.0 h_{3}^{2} - 0.25 \\left(- 2 a h_{1} r_{1} - 2 a h_{2} r_{2} - 2 a h_{3} r_{3} + 2 h_{0} + 2 h_{1} r_{1} + 2 h_{2} r_{2} + 2 h_{3} r_{3}\\right)^{2}$"
      ],
      "text/plain": [
       "-2.0*a*h_0*h_1*r_1 - 2.0*a*h_0*h_2*r_2 - 2.0*a*h_0*h_3*r_3 + 1.0*h_0**2 + 2.0*h_0*h_1*r_1 + 2.0*h_0*h_2*r_2 + 2.0*h_0*h_3*r_3 + 1.0*h_1**2 + 1.0*h_2**2 + 1.0*h_3**2 - 0.25*(-2*a*h_1*r_1 - 2*a*h_2*r_2 - 2*a*h_3*r_3 + 2*h_0 + 2*h_1*r_1 + 2*h_2*r_2 + 2*h_3*r_3)**2"
      ]
     },
     "execution_count": 56,
     "metadata": {},
     "output_type": "execute_result"
    }
   ],
   "source": [
    "var = trace(Ra@H@H) - trace(Ra@H)**2\n",
    "simplify(var)"
   ]
  },
  {
   "cell_type": "code",
   "execution_count": 57,
   "id": "ea87d334-8e18-471c-ab1e-c3a561154af0",
   "metadata": {},
   "outputs": [
    {
     "data": {
      "text/latex": [
       "$\\displaystyle - 1.0 a^{2} + 2.0 a + 1.0 h_{2}^{2} + 1.0 h_{3}^{2}$"
      ],
      "text/plain": [
       "-1.0*a**2 + 2.0*a + 1.0*h_2**2 + 1.0*h_3**2"
      ]
     },
     "execution_count": 57,
     "metadata": {},
     "output_type": "execute_result"
    }
   ],
   "source": [
    "simplify(var.subs([(h0, 1), (h1, -1), (h2, h2), (h3, h3), (r1, 1), (r2, 0), (r3, 0)]))"
   ]
  },
  {
   "cell_type": "code",
   "execution_count": 58,
   "id": "38c54536-de77-4b73-bd65-7732d1755738",
   "metadata": {},
   "outputs": [
    {
     "data": {
      "text/latex": [
       "$\\displaystyle - 1.0 a^{2} + 2.0 a - 1.0 + \\frac{0.111111111111111}{r_{3}^{2}} + \\frac{0.111111111111111}{r_{2}^{2}} + \\frac{0.111111111111111}{r_{1}^{2}}$"
      ],
      "text/plain": [
       "-1.0*a**2 + 2.0*a - 1.0 + 0.111111111111111/r_3**2 + 0.111111111111111/r_2**2 + 0.111111111111111/r_1**2"
      ]
     },
     "execution_count": 58,
     "metadata": {},
     "output_type": "execute_result"
    }
   ],
   "source": [
    "simplify(var.subs([(h0, 1), (h1, -1/(r1*3)), (h2, -1/(r2*3)), (h3, -1/(r3*3))]))"
   ]
  },
  {
   "cell_type": "markdown",
   "id": "00041caf-ceca-4be5-acc1-f0ea41b3782c",
   "metadata": {},
   "source": [
    "### In terms of the spectrum"
   ]
  },
  {
   "cell_type": "code",
   "execution_count": 59,
   "id": "1ff71881-62c6-4b51-9146-5b2cf1576cf3",
   "metadata": {},
   "outputs": [
    {
     "data": {
      "text/latex": [
       "$\\displaystyle 1.0 x_{0} \\cdot \\left(0.5 a + \\left(1 - a\\right) \\left(0.5 r_{3} + 0.5\\right)\\right) + 1.0 x_{1} \\cdot \\left(0.5 a + \\left(0.5 - 0.5 r_{3}\\right) \\left(1 - a\\right)\\right)$"
      ],
      "text/plain": [
       "1.0*x_0*(0.5*a + (1 - a)*(0.5*r_3 + 0.5)) + 1.0*x_1*(0.5*a + (0.5 - 0.5*r_3)*(1 - a))"
      ]
     },
     "execution_count": 59,
     "metadata": {},
     "output_type": "execute_result"
    }
   ],
   "source": [
    "R = Matrix(1/2*(I + r1*X + r2*Y + r3*Z))\n",
    "H = Matrix(x0*P0 + x1*P1)\n",
    "\n",
    "Ra = (1 - a)*R + a*I/2\n",
    "\n",
    "res = trace(Ra@H)\n",
    "res"
   ]
  },
  {
   "cell_type": "code",
   "execution_count": 60,
   "id": "c6c78441-5a42-479c-b05d-48624b6a6e10",
   "metadata": {},
   "outputs": [
    {
     "data": {
      "text/latex": [
       "$\\displaystyle 1.0 a$"
      ],
      "text/plain": [
       "1.0*a"
      ]
     },
     "execution_count": 60,
     "metadata": {},
     "output_type": "execute_result"
    }
   ],
   "source": [
    "simplify(res.subs([(x0, 1 - 1/r3), (x1, 1 + 1/r3)]))"
   ]
  },
  {
   "cell_type": "markdown",
   "id": "ecfc68a9-7fc2-46b0-94f2-e1b456584d59",
   "metadata": {
    "tags": []
   },
   "source": [
    "# $z$-rotation"
   ]
  },
  {
   "cell_type": "markdown",
   "id": "189aac8f-c306-4227-8177-d3716bcafbb6",
   "metadata": {
    "tags": []
   },
   "source": [
    "## degree 1"
   ]
  },
  {
   "cell_type": "code",
   "execution_count": 61,
   "id": "1de55d95-3b1c-41df-b519-ed65d7b6d542",
   "metadata": {},
   "outputs": [],
   "source": [
    "a = Symbol(\"a\")\n",
    "r1, r2, r3 = Symbol(\"r_1\"), Symbol(\"r_2\"), Symbol(\"r_3\")\n",
    "h0, h1, h2, h3 = Symbol(\"h_0\"), Symbol(\"h_1\"), Symbol(\"h_2\"), Symbol(\"h_3\")"
   ]
  },
  {
   "cell_type": "code",
   "execution_count": 62,
   "id": "d3fae0ea-4ad9-4b61-8253-df4d5dccbcbf",
   "metadata": {},
   "outputs": [],
   "source": [
    "R = Matrix(1/2*(I + X))\n",
    "# R = Matrix(1/2*(I + r1*X + r2*Y + r3*Z))\n",
    "H = Matrix(h0*I + h1*X + h2*Y + h3*Z)\n",
    "Uz = Matrix(cos(a/2)*I - 1j*sin(a/2)*Z)\n",
    "Uz_dg = Matrix(cos(a/2)*I + 1j*sin(a/2)*Z)"
   ]
  },
  {
   "cell_type": "code",
   "execution_count": 63,
   "id": "ff51af0c-1c01-4326-961e-61b5cac2c823",
   "metadata": {},
   "outputs": [
    {
     "data": {
      "text/latex": [
       "$\\displaystyle 1.0 h_{0} + 0.5 \\cdot \\left(1.0 h_{1} - 1.0 i h_{2}\\right) e^{i a} + 0.5 \\cdot \\left(1.0 h_{1} + 1.0 i h_{2}\\right) e^{- i a}$"
      ],
      "text/plain": [
       "1.0*h_0 + 0.5*(1.0*h_1 - 1.0*I*h_2)*exp(I*a) + 0.5*(1.0*h_1 + 1.0*I*h_2)*exp(-I*a)"
      ]
     },
     "execution_count": 63,
     "metadata": {},
     "output_type": "execute_result"
    }
   ],
   "source": [
    "Ra = simplify(Uz@R@Uz_dg)\n",
    "\n",
    "res = trace(Ra@H)\n",
    "res"
   ]
  },
  {
   "cell_type": "code",
   "execution_count": 68,
   "id": "3d34834d-b8bb-47e0-8515-5d8fc89221ab",
   "metadata": {},
   "outputs": [
    {
     "data": {
      "text/latex": [
       "$\\displaystyle \\left[\\begin{matrix}0.5 & 0.5 e^{- i a}\\\\0.5 e^{i a} & 0.5\\end{matrix}\\right]$"
      ],
      "text/plain": [
       "Matrix([\n",
       "[         0.5, 0.5*exp(-I*a)],\n",
       "[0.5*exp(I*a),           0.5]])"
      ]
     },
     "execution_count": 68,
     "metadata": {},
     "output_type": "execute_result"
    }
   ],
   "source": [
    "Ra"
   ]
  },
  {
   "cell_type": "code",
   "execution_count": 65,
   "id": "6188a1a0-ff93-4593-9971-aa5c5e252385",
   "metadata": {},
   "outputs": [
    {
     "data": {
      "text/latex": [
       "$\\displaystyle 0.5 e^{i a} + 0.5 e^{- i a}$"
      ],
      "text/plain": [
       "0.5*exp(I*a) + 0.5*exp(-I*a)"
      ]
     },
     "execution_count": 65,
     "metadata": {},
     "output_type": "execute_result"
    }
   ],
   "source": [
    "trace(Ra@X)"
   ]
  },
  {
   "cell_type": "markdown",
   "id": "2de891b9-c625-44b4-a08b-779ee4f1db11",
   "metadata": {
    "tags": []
   },
   "source": [
    "## degree 2"
   ]
  },
  {
   "cell_type": "code",
   "execution_count": 3,
   "id": "b6c3244e-28f1-41b9-9850-0be678aabebe",
   "metadata": {},
   "outputs": [
    {
     "data": {
      "text/latex": [
       "$\\displaystyle 1.0 h_{00} + 0.5 h_{11} + 0.5 h_{22} + 0.25 \\cdot \\left(1.0 h_{01} - 1.0 i h_{02} - 1.0 h_{31} + 1.0 i h_{32}\\right) e^{i a} + 0.25 \\cdot \\left(1.0 h_{01} - 1.0 i h_{02} + 1.0 h_{31} - 1.0 i h_{32}\\right) e^{i a} + 0.25 \\cdot \\left(1.0 h_{01} + 1.0 i h_{02} - 1.0 h_{31} - 1.0 i h_{32}\\right) e^{- i a} + 0.25 \\cdot \\left(1.0 h_{01} + 1.0 i h_{02} + 1.0 h_{31} + 1.0 i h_{32}\\right) e^{- i a} + 0.25 \\cdot \\left(1.0 h_{10} - 1.0 h_{13} - 1.0 i h_{20} + 1.0 i h_{23}\\right) e^{i a} + 0.25 \\cdot \\left(1.0 h_{10} - 1.0 h_{13} + 1.0 i h_{20} - 1.0 i h_{23}\\right) e^{- i a} + 0.25 \\cdot \\left(1.0 h_{10} + 1.0 h_{13} - 1.0 i h_{20} - 1.0 i h_{23}\\right) e^{i a} + 0.25 \\cdot \\left(1.0 h_{10} + 1.0 h_{13} + 1.0 i h_{20} + 1.0 i h_{23}\\right) e^{- i a} + 0.25 \\cdot \\left(1.0 h_{11} - 1.0 i h_{12} - 1.0 i h_{21} - 1.0 h_{22}\\right) e^{2 i a} + 0.25 \\cdot \\left(1.0 h_{11} + 1.0 i h_{12} + 1.0 i h_{21} - 1.0 h_{22}\\right) e^{- 2 i a}$"
      ],
      "text/plain": [
       "1.0*h_00 + 0.5*h_11 + 0.5*h_22 + 0.25*(1.0*h_01 - 1.0*I*h_02 - 1.0*h_31 + 1.0*I*h_32)*exp(I*a) + 0.25*(1.0*h_01 - 1.0*I*h_02 + 1.0*h_31 - 1.0*I*h_32)*exp(I*a) + 0.25*(1.0*h_01 + 1.0*I*h_02 - 1.0*h_31 - 1.0*I*h_32)*exp(-I*a) + 0.25*(1.0*h_01 + 1.0*I*h_02 + 1.0*h_31 + 1.0*I*h_32)*exp(-I*a) + 0.25*(1.0*h_10 - 1.0*h_13 - 1.0*I*h_20 + 1.0*I*h_23)*exp(I*a) + 0.25*(1.0*h_10 - 1.0*h_13 + 1.0*I*h_20 - 1.0*I*h_23)*exp(-I*a) + 0.25*(1.0*h_10 + 1.0*h_13 - 1.0*I*h_20 - 1.0*I*h_23)*exp(I*a) + 0.25*(1.0*h_10 + 1.0*h_13 + 1.0*I*h_20 + 1.0*I*h_23)*exp(-I*a) + 0.25*(1.0*h_11 - 1.0*I*h_12 - 1.0*I*h_21 - 1.0*h_22)*exp(2*I*a) + 0.25*(1.0*h_11 + 1.0*I*h_12 + 1.0*I*h_21 - 1.0*h_22)*exp(-2*I*a)"
      ]
     },
     "execution_count": 3,
     "metadata": {},
     "output_type": "execute_result"
    }
   ],
   "source": [
    "a = Symbol(\"a\")\n",
    "r1, r2, r3 = Symbol(\"r_1\"), Symbol(\"r_2\"), Symbol(\"r_3\")\n",
    "x0, x1 = Symbol(\"x_0\"), Symbol(\"x_1\")\n",
    "hs = [Symbol(\"h_\" + str(i) + str(j) + \"\") for i in range(4) for j in range(4)]\n",
    "\n",
    "paulies = [reduce(kron, el) for el in product([I, X, Y, Z], repeat=2)]\n",
    "H = zeros([4, 4], dtype=complex)\n",
    "for h, P in zip(hs, paulies):\n",
    "    H = H + h*P\n",
    "H = Matrix(H)\n",
    "\n",
    "Uz = Matrix(cos(a/2)*I - 1j*sin(a/2)*Z)\n",
    "Uz_dg = Matrix(cos(a/2)*I + 1j*sin(a/2)*Z)\n",
    "\n",
    "# R = Matrix(1/2*(I + r1*X + r2*Y + r3*Z))\n",
    "R = Matrix(1/2*(I + X))\n",
    "Rn = Matrix(simplify(Uz@R@Uz_dg))\n",
    "Rn = TensorProduct(Rn, Rn)\n",
    "\n",
    "# res = simplify(trace(Rn@H))\n",
    "res = trace(Rn@H)\n",
    "res"
   ]
  },
  {
   "cell_type": "code",
   "execution_count": 4,
   "id": "ef3cfad8-4eb6-48bf-b22d-b09db7a9e142",
   "metadata": {},
   "outputs": [
    {
     "data": {
      "text/latex": [
       "$\\displaystyle \\left[\\begin{matrix}0.5 & 0.5 e^{- i a}\\\\0.5 e^{i a} & 0.5\\end{matrix}\\right]$"
      ],
      "text/plain": [
       "Matrix([\n",
       "[         0.5, 0.5*exp(-I*a)],\n",
       "[0.5*exp(I*a),           0.5]])"
      ]
     },
     "execution_count": 4,
     "metadata": {},
     "output_type": "execute_result"
    }
   ],
   "source": [
    "Matrix(simplify(Uz@R@Uz_dg))"
   ]
  },
  {
   "cell_type": "code",
   "execution_count": 55,
   "id": "d1d99ad1-e0d4-4f2c-8a67-a10707a806e3",
   "metadata": {},
   "outputs": [],
   "source": [
    "Rn3 = TensorProduct(TensorProduct(Matrix(simplify(Uz@R@Uz_dg)), Matrix(simplify(Uz@R@Uz_dg))), Matrix(simplify(Uz@R@Uz_dg)))"
   ]
  },
  {
   "cell_type": "code",
   "execution_count": 141,
   "id": "6905e5d5-3968-448f-8f69-3449f761d420",
   "metadata": {},
   "outputs": [
    {
     "data": {
      "text/latex": [
       "$\\displaystyle - 0.375 i e^{3 i a} - 0.375 i e^{i a} + 0.375 i e^{- i a} + 0.375 i e^{- 3 i a}$"
      ],
      "text/plain": [
       "-0.375*I*exp(3*I*a) - 0.375*I*exp(I*a) + 0.375*I*exp(-I*a) + 0.375*I*exp(-3*I*a)"
      ]
     },
     "execution_count": 141,
     "metadata": {},
     "output_type": "execute_result"
    }
   ],
   "source": [
    "op = zeros([8, 8], dtype=complex)\n",
    "# op += -1/4*reduce(kron, [Y, I, I])\n",
    "# op += -2*reduce(kron, [Y, X, I])\n",
    "op += 1*reduce(kron, [Y, X, X])\n",
    "op += 1*reduce(kron, [X, Y, X])\n",
    "op += 1*reduce(kron, [X, X, Y])\n",
    "# simplify(trace(Rn3@op))\n",
    "trace(Rn3@op)"
   ]
  },
  {
   "cell_type": "code",
   "execution_count": 212,
   "id": "a93a95cd-9fdd-4838-bfc3-8fb073e78833",
   "metadata": {},
   "outputs": [
    {
     "data": {
      "text/latex": [
       "$\\displaystyle 0.666666666666667 \\sin{\\left(3 a \\right)}$"
      ],
      "text/plain": [
       "0.666666666666667*sin(3*a)"
      ]
     },
     "execution_count": 212,
     "metadata": {},
     "output_type": "execute_result"
    }
   ],
   "source": [
    "j = 3\n",
    "P01 = np.outer(s0, s1)\n",
    "P10 = np.outer(s1, s0)\n",
    "# mul = -2/j * (-1)**j*4\n",
    "mul = 2**j*(-1)**j/j\n",
    "# mul = (-2)**j/j\n",
    "op = 1j*(reduce(kron, [P01]*j + [I]*(3-j)) - reduce(kron, [P10]*j + [I]*(3-j))) *mul\n",
    "simplify(trace(Rn3@op))\n",
    "# trace(Rn3@op)"
   ]
  },
  {
   "cell_type": "code",
   "execution_count": 45,
   "id": "069a6735-cc3a-4f69-a62b-33ae6347b6c8",
   "metadata": {},
   "outputs": [
    {
     "data": {
      "text/latex": [
       "$\\displaystyle 0.5 i e^{2 i a} - 0.5 i e^{- 2 i a}$"
      ],
      "text/plain": [
       "0.5*I*exp(2*I*a) - 0.5*I*exp(-2*I*a)"
      ]
     },
     "execution_count": 45,
     "metadata": {},
     "output_type": "execute_result"
    }
   ],
   "source": [
    "### Fourier coefficients ###\n",
    "muls = uniform(-1, 1, 4); muls = muls/sum(muls)\n",
    "# muls = [Symbol(\"a\"), Symbol(\"b\"), Symbol(\"c\"), Symbol(\"d\")]\n",
    "(res.subs([\n",
    "                   (hs[0], 0), # h00\n",
    "                   (hs[1], 0), # h01\n",
    "                   (hs[2], 0), # h02 this 1\n",
    "                   (hs[3], 0), # h03\n",
    "                   (hs[4], 0), # h10\n",
    "                   (hs[5], 0), # h11\n",
    "                   (hs[6], -1), # h12 this 2\n",
    "                   (hs[7], 0), # h13\n",
    "                   (hs[8], 0), # h20 this 1 \n",
    "                   (hs[9], -1), # h21 this 2\n",
    "                   (hs[10], 0), # h22\n",
    "                   (hs[11], 0), # h23\n",
    "                   (hs[12], 0), # h30\n",
    "                   (hs[13], 0), # h31\n",
    "                   (hs[14], 0), # h32\n",
    "                   (hs[15], 0), # h33\n",
    "                  ]))"
   ]
  },
  {
   "cell_type": "code",
   "execution_count": 46,
   "id": "72c0d310-f0bb-420f-9287-232b98f6b12f",
   "metadata": {},
   "outputs": [
    {
     "data": {
      "text/latex": [
       "$\\displaystyle 0.5 i e^{2 i a} - 1.0 i e^{i a} + 1.0 i e^{- i a} - 0.5 i e^{- 2 i a}$"
      ],
      "text/plain": [
       "0.5*I*exp(2*I*a) - 1.0*I*exp(I*a) + 1.0*I*exp(-I*a) - 0.5*I*exp(-2*I*a)"
      ]
     },
     "execution_count": 46,
     "metadata": {},
     "output_type": "execute_result"
    }
   ],
   "source": [
    "### Fourier coefficients ###\n",
    "# muls = uniform(-1, 1, 4); muls = muls/sum(muls)\n",
    "# muls = [Symbol(\"a\"), Symbol(\"b\"), Symbol(\"c\"), Symbol(\"d\")]\n",
    "(res.subs([\n",
    "                   (hs[0], 0), # h00\n",
    "                   (hs[1], 0), # h01\n",
    "                   (hs[2], 1), # h02 this 1\n",
    "                   (hs[3], 0), # h03\n",
    "                   (hs[4], 0), # h10\n",
    "                   (hs[5], 0), # h11\n",
    "                   (hs[6], -1), # h12 this 2\n",
    "                   (hs[7], 0), # h13\n",
    "                   (hs[8], 1), # h20 this 1 \n",
    "                   (hs[9], -1), # h21 this 2\n",
    "                   (hs[10], 0), # h22\n",
    "                   (hs[11], 0), # h23\n",
    "                   (hs[12], 0), # h30\n",
    "                   (hs[13], 0), # h31\n",
    "                   (hs[14], 0), # h32\n",
    "                   (hs[15], 0), # h33\n",
    "                  ]))"
   ]
  },
  {
   "cell_type": "code",
   "execution_count": 94,
   "id": "056bf73e-03ad-4b75-bd25-09ce909a9d52",
   "metadata": {},
   "outputs": [
    {
     "data": {
      "text/latex": [
       "$\\displaystyle 0.5 i e^{2 i a} - 1.0 i e^{i a} + 1.0 i e^{- i a} - 0.5 i e^{- 2 i a}$"
      ],
      "text/plain": [
       "0.5*I*exp(2*I*a) - 1.0*I*exp(I*a) + 1.0*I*exp(-I*a) - 0.5*I*exp(-2*I*a)"
      ]
     },
     "execution_count": 94,
     "metadata": {},
     "output_type": "execute_result"
    }
   ],
   "source": [
    "### Fourier coefficients ###\n",
    "# muls = uniform(-1, 1, 4); muls = muls/sum(muls)\n",
    "# muls = [Symbol(\"a\"), Symbol(\"b\"), Symbol(\"c\"), Symbol(\"d\")]\n",
    "(res.subs([\n",
    "                   (hs[0], 0), # h00\n",
    "                   (hs[1], 0), # h01\n",
    "                   (hs[2], 0), # h02 this 1\n",
    "                   (hs[3], 0), # h03\n",
    "                   (hs[4], 0), # h10\n",
    "                   (hs[5], 0), # h11\n",
    "                   (hs[6], 0), # h12 this 2\n",
    "                   (hs[7], 0), # h13\n",
    "                   (hs[8], 2), # h20 this 1 \n",
    "                   (hs[9], -2), # h21 this 2\n",
    "                   (hs[10], 0), # h22\n",
    "                   (hs[11], 0), # h23\n",
    "                   (hs[12], 0), # h30\n",
    "                   (hs[13], 0), # h31\n",
    "                   (hs[14], 0), # h32\n",
    "                   (hs[15], 0), # h33\n",
    "                  ]))"
   ]
  },
  {
   "cell_type": "markdown",
   "id": "1a6c891f-8f99-497b-b9f5-cff71104d534",
   "metadata": {
    "tags": []
   },
   "source": [
    "# Amplitude-damping"
   ]
  },
  {
   "cell_type": "code",
   "execution_count": 111,
   "id": "aec1bc2a-612b-470c-bb3b-7e32c8420fdb",
   "metadata": {},
   "outputs": [],
   "source": [
    "g = Symbol(\"\\gamma\")\n",
    "r1, r2, r3 = Symbol(\"r_1\"), Symbol(\"r_2\"), Symbol(\"r_3\")\n",
    "h0, h1, h2, h3 = Symbol(\"h_0\"), Symbol(\"h_1\"), Symbol(\"h_2\"), Symbol(\"h_3\")\n",
    "x0, x1 = Symbol(\"x_0\"), Symbol(\"x_1\")"
   ]
  },
  {
   "cell_type": "code",
   "execution_count": 112,
   "id": "6fec0b3a-d91b-4e01-b90d-bdf494401e03",
   "metadata": {},
   "outputs": [],
   "source": [
    "R = Matrix(1/2*(I + r1*X + r2*Y + r3*Z))\n",
    "H = Matrix(h0*I + h1*X + h2*Y + h3*Z)\n",
    "\n",
    "K1 =  Matrix([[1,           0],\n",
    "              [0, sqrt(1 - g)]])\n",
    "K2 =  Matrix([[0, sqrt(g)],\n",
    "              [0,       0]])\n",
    "\n",
    "Rn = K1@R@K1.T + K2@R@K2.T"
   ]
  },
  {
   "cell_type": "code",
   "execution_count": 113,
   "id": "d1ee98d9-7f0b-4834-bc05-04f3dc42740e",
   "metadata": {},
   "outputs": [
    {
     "data": {
      "text/latex": [
       "$\\displaystyle \\left[\\begin{matrix}0.5 \\gamma + 0.5 & 0.5 \\sqrt{1 - \\gamma}\\\\0.5 \\sqrt{1 - \\gamma} & 0.5 - 0.5 \\gamma\\end{matrix}\\right]$"
      ],
      "text/plain": [
       "Matrix([\n",
       "[    0.5*\\gamma + 0.5, 0.5*sqrt(1 - \\gamma)],\n",
       "[0.5*sqrt(1 - \\gamma),     0.5 - 0.5*\\gamma]])"
      ]
     },
     "execution_count": 113,
     "metadata": {},
     "output_type": "execute_result"
    }
   ],
   "source": [
    "simplify(Rn.subs([ (r1, 1), \n",
    "                   (r2, 0), \n",
    "                   (r3, 0)]))"
   ]
  },
  {
   "cell_type": "code",
   "execution_count": 122,
   "id": "6103bbf8-6ec8-4b9a-92f1-b44e132c31b9",
   "metadata": {},
   "outputs": [
    {
     "data": {
      "text/latex": [
       "$\\displaystyle - 1.0 \\gamma h_{3} r_{3} + 1.0 \\gamma h_{3} + 1.0 h_{0} + 1.0 h_{1} r_{1} \\sqrt{1 - \\gamma} + 1.0 h_{2} r_{2} \\sqrt{1 - \\gamma} + 1.0 h_{3} r_{3}$"
      ],
      "text/plain": [
       "-1.0*\\gamma*h_3*r_3 + 1.0*\\gamma*h_3 + 1.0*h_0 + 1.0*h_1*r_1*sqrt(1 - \\gamma) + 1.0*h_2*r_2*sqrt(1 - \\gamma) + 1.0*h_3*r_3"
      ]
     },
     "execution_count": 122,
     "metadata": {},
     "output_type": "execute_result"
    }
   ],
   "source": [
    "expec = trace(Rn@H)\n",
    "simplify(expec)"
   ]
  },
  {
   "cell_type": "code",
   "execution_count": 130,
   "id": "e493f304-ffa0-457d-856e-88477157f38c",
   "metadata": {},
   "outputs": [
    {
     "data": {
      "text/latex": [
       "$\\displaystyle 1.0 \\gamma$"
      ],
      "text/plain": [
       "1.0*\\gamma"
      ]
     },
     "execution_count": 130,
     "metadata": {},
     "output_type": "execute_result"
    }
   ],
   "source": [
    "simplify(expec.subs([(h0, r3/(r3 - 1)), \n",
    "                     (h1, 0), \n",
    "                     (h2, 0), \n",
    "                     (h3, -1/(r3 - 1))]))"
   ]
  },
  {
   "cell_type": "code",
   "execution_count": 129,
   "id": "6c0c0291-a9b8-414a-8951-239b571abaaf",
   "metadata": {},
   "outputs": [
    {
     "data": {
      "text/latex": [
       "$\\displaystyle 1.0 \\gamma$"
      ],
      "text/plain": [
       "1.0*\\gamma"
      ]
     },
     "execution_count": 129,
     "metadata": {},
     "output_type": "execute_result"
    }
   ],
   "source": [
    "simplify(expec.subs([(h0, r3/(r3 - 1)), \n",
    "                     (h1, 1/r1), \n",
    "                     (h2, -1/r2), \n",
    "                     (h3, -1/(r3 - 1))]))"
   ]
  },
  {
   "cell_type": "code",
   "execution_count": 131,
   "id": "c7fa6ac6-3c05-4e5f-9f72-4a626b8f1266",
   "metadata": {},
   "outputs": [
    {
     "data": {
      "text/latex": [
       "$\\displaystyle 1.0 \\sqrt{1 - \\gamma}$"
      ],
      "text/plain": [
       "1.0*sqrt(1 - \\gamma)"
      ]
     },
     "execution_count": 131,
     "metadata": {},
     "output_type": "execute_result"
    }
   ],
   "source": [
    "simplify(expec.subs([(h0, 0), \n",
    "                     (h1, 0.5/r1), \n",
    "                     (h2, 0.5/r2), \n",
    "                     (h3, 0)]))"
   ]
  },
  {
   "cell_type": "code",
   "execution_count": 135,
   "id": "79006118-216a-49e6-8505-d12c131b7d12",
   "metadata": {},
   "outputs": [
    {
     "data": {
      "text/latex": [
       "$\\displaystyle - 1.0 \\gamma^{2} + 1.0 h_{2}^{2} + 1.0$"
      ],
      "text/plain": [
       "-1.0*\\gamma**2 + 1.0*h_2**2 + 1.0"
      ]
     },
     "execution_count": 135,
     "metadata": {},
     "output_type": "execute_result"
    }
   ],
   "source": [
    "disp = trace(Rn@H@H) - trace(Rn@H)**2\n",
    "simplify(disp.subs([(h0, 0), \n",
    "                   (h1, 0), \n",
    "                   (h2, h2), \n",
    "                   (h3, 1),\n",
    "                   (r1, 1),\n",
    "                   (r2, 0),\n",
    "                   (r3, 0)]))"
   ]
  },
  {
   "cell_type": "code",
   "execution_count": 146,
   "id": "aacc8920-a0a2-4e2c-93bb-cff8c69e4fec",
   "metadata": {},
   "outputs": [
    {
     "data": {
      "text/latex": [
       "$\\displaystyle 1.0 - 1.0 \\gamma^{2}$"
      ],
      "text/plain": [
       "1.0 - 1.0*\\gamma**2"
      ]
     },
     "execution_count": 146,
     "metadata": {},
     "output_type": "execute_result"
    }
   ],
   "source": [
    "disp = trace(Rn@H@H) - trace(Rn@H)**2\n",
    "simplify(disp.subs([(h0, 0), \n",
    "                   (h1, 0), \n",
    "                   (h2, 0), \n",
    "                   (h3, 1),\n",
    "                   (r1, 1),\n",
    "                   (r2, 0),\n",
    "                   (r3, 0)]))"
   ]
  },
  {
   "cell_type": "markdown",
   "id": "24664c9c-6ae9-4160-9943-749fcf822615",
   "metadata": {},
   "source": [
    "### Engineered Hamiltonian"
   ]
  },
  {
   "cell_type": "markdown",
   "id": "9a54aa06-690e-404b-95e9-f3edddb0fc8c",
   "metadata": {},
   "source": [
    "#### Z eigenbasis"
   ]
  },
  {
   "cell_type": "code",
   "execution_count": 147,
   "id": "c70fad46-742e-4f0d-9d3c-5a9fe9efc3cc",
   "metadata": {},
   "outputs": [
    {
     "data": {
      "text/latex": [
       "$\\displaystyle 1.0 \\gamma h_{3} + 1.0 h_{0} + 1.0 h_{1} \\sqrt{1 - \\gamma}$"
      ],
      "text/plain": [
       "1.0*\\gamma*h_3 + 1.0*h_0 + 1.0*h_1*sqrt(1 - \\gamma)"
      ]
     },
     "execution_count": 147,
     "metadata": {},
     "output_type": "execute_result"
    }
   ],
   "source": [
    "R = Matrix(1/2*(I + X))\n",
    "H = Matrix(h0*I + h1*X + h2*Y + h3*Z)\n",
    "\n",
    "K1 =  Matrix([[1,           0],\n",
    "              [0, sqrt(1 - g)]])\n",
    "K2 =  Matrix([[0, sqrt(g)],\n",
    "              [0,       0]])\n",
    "\n",
    "Rn = K1@R@K1.T + K2@R@K2.T\n",
    "res = trace(Rn@H)\n",
    "simplify(res)"
   ]
  },
  {
   "cell_type": "code",
   "execution_count": 148,
   "id": "8387cfb6-26d3-4e5b-8025-dc8c7639f338",
   "metadata": {},
   "outputs": [
    {
     "data": {
      "text/latex": [
       "$\\displaystyle 0.5 x_{0} \\left(\\gamma + 1\\right) - 0.5 x_{1} \\left(\\gamma - 1\\right)$"
      ],
      "text/plain": [
       "0.5*x_0*(\\gamma + 1) - 0.5*x_1*(\\gamma - 1)"
      ]
     },
     "execution_count": 148,
     "metadata": {},
     "output_type": "execute_result"
    }
   ],
   "source": [
    "H = Matrix(x0*P0 + x1*P1) # Z eigenbasis\n",
    "res = trace(Rn@H)\n",
    "simplify(res)"
   ]
  },
  {
   "cell_type": "code",
   "execution_count": 149,
   "id": "f2a8ac26-1f6d-48d4-a497-83f9c3d1582e",
   "metadata": {},
   "outputs": [
    {
     "data": {
      "text/latex": [
       "$\\displaystyle 1.0 \\gamma$"
      ],
      "text/plain": [
       "1.0*\\gamma"
      ]
     },
     "execution_count": 149,
     "metadata": {},
     "output_type": "execute_result"
    }
   ],
   "source": [
    "simplify(res.subs([(x0, 1),\n",
    "                   (x1, -1)\n",
    "                  ]))"
   ]
  },
  {
   "cell_type": "code",
   "execution_count": 150,
   "id": "02fed7c7-52a2-4b9a-9d5f-cb57565bf281",
   "metadata": {},
   "outputs": [
    {
     "data": {
      "text/latex": [
       "$\\displaystyle \\frac{1.0 \\left(- \\gamma + r_{3}\\right)}{r_{3} - 1}$"
      ],
      "text/plain": [
       "1.0*(-\\gamma + r_3)/(r_3 - 1)"
      ]
     },
     "execution_count": 150,
     "metadata": {},
     "output_type": "execute_result"
    }
   ],
   "source": [
    "simplify(res.subs([(x0, (r3 - 1)/(r3 - 1)),\n",
    "                   (x1, (r3 + 1)/(r3 - 1))\n",
    "                  ]))"
   ]
  },
  {
   "cell_type": "markdown",
   "id": "928f6aa9-a787-4b58-8230-bc58da3d0948",
   "metadata": {
    "tags": []
   },
   "source": [
    "# Generalized amplitude-damping"
   ]
  },
  {
   "cell_type": "markdown",
   "id": "f7f4e998-9584-4734-86e6-751e2be4035f",
   "metadata": {
    "tags": []
   },
   "source": [
    "## degree 1"
   ]
  },
  {
   "cell_type": "code",
   "execution_count": 4,
   "id": "3c11f235-d8f6-4be7-9cb4-14770c6ac4fa",
   "metadata": {},
   "outputs": [],
   "source": [
    "g = Symbol(\"\\gamma\")\n",
    "N = Symbol(\"N\")\n",
    "r1, r2, r3 = Symbol(\"r_1\"), Symbol(\"r_2\"), Symbol(\"r_3\")\n",
    "h0, h1, h2, h3 = Symbol(\"h_0\"), Symbol(\"h_1\"), Symbol(\"h_2\"), Symbol(\"h_3\")\n",
    "x0, x1 = Symbol(\"x_0\"), Symbol(\"x_1\")"
   ]
  },
  {
   "cell_type": "code",
   "execution_count": 9,
   "id": "2823a23e-ca29-42cb-a99c-fb5dcfdd99a9",
   "metadata": {},
   "outputs": [
    {
     "data": {
      "text/latex": [
       "$\\displaystyle - 2.0 N \\gamma h_{3} - 1.0 \\gamma h_{3} r_{3} + 1.0 \\gamma h_{3} + 1.0 h_{0} + 1.0 h_{1} r_{1} \\sqrt{1 - \\gamma} + 1.0 h_{2} r_{2} \\sqrt{1 - \\gamma} + 1.0 h_{3} r_{3}$"
      ],
      "text/plain": [
       "-2.0*N*\\gamma*h_3 - 1.0*\\gamma*h_3*r_3 + 1.0*\\gamma*h_3 + 1.0*h_0 + 1.0*h_1*r_1*sqrt(1 - \\gamma) + 1.0*h_2*r_2*sqrt(1 - \\gamma) + 1.0*h_3*r_3"
      ]
     },
     "execution_count": 9,
     "metadata": {},
     "output_type": "execute_result"
    }
   ],
   "source": [
    "R = Matrix(1/2*(I + r1*X + r2*Y + r3*Z))\n",
    "H = Matrix(h0*I + h1*X + h2*Y + h3*Z)\n",
    "\n",
    "K1 =  Matrix([[1,           0],\n",
    "              [0, sqrt(1 - g)]])*sqrt(1 - N)\n",
    "K2 =  Matrix([[0, sqrt(g*(1 - N))],\n",
    "              [0,               0]])\n",
    "K3 =  Matrix([[sqrt(1 - g), 0],\n",
    "              [          0, 1]])*sqrt(N)\n",
    "K4 =  Matrix([[0,         0],\n",
    "              [sqrt(g*N), 0]])\n",
    "\n",
    "Ra = K1@R@K1.T + K2@R@K2.T  + K3@R@K3.T  + K4@R@K4.T \n",
    "res = trace(Ra@H)\n",
    "simplify(res)"
   ]
  },
  {
   "cell_type": "markdown",
   "id": "81cada84-776d-4367-a5a0-ba16dce75d3f",
   "metadata": {},
   "source": [
    "#### Fixed $N$"
   ]
  },
  {
   "cell_type": "markdown",
   "id": "60ed72fa-2fca-4491-9f9d-14d292f3345c",
   "metadata": {},
   "source": [
    "Non-linear in $\\gamma$"
   ]
  },
  {
   "cell_type": "code",
   "execution_count": 62,
   "id": "0a4d8616-9d19-44e1-ba5a-454acb63b34d",
   "metadata": {},
   "outputs": [
    {
     "data": {
      "text/latex": [
       "$\\displaystyle 1.0 \\sqrt{1 - \\gamma}$"
      ],
      "text/plain": [
       "1.0*sqrt(1 - \\gamma)"
      ]
     },
     "execution_count": 62,
     "metadata": {},
     "output_type": "execute_result"
    }
   ],
   "source": [
    "simplify(res.subs([(h0, 0), \n",
    "                   (h1, 1/(2*r1)), \n",
    "                   (h2, 1/(2*r2)), \n",
    "                   (h3, 0)]))"
   ]
  },
  {
   "cell_type": "markdown",
   "id": "c847ac4a-d71e-4d19-b2a5-66459562edcb",
   "metadata": {},
   "source": [
    "Linear in $\\gamma$"
   ]
  },
  {
   "cell_type": "code",
   "execution_count": 11,
   "id": "978c1d68-de25-4d4d-989e-14bebc6a89a2",
   "metadata": {},
   "outputs": [
    {
     "data": {
      "text/latex": [
       "$\\displaystyle 1.0 \\gamma$"
      ],
      "text/plain": [
       "1.0*\\gamma"
      ]
     },
     "execution_count": 11,
     "metadata": {},
     "output_type": "execute_result"
    }
   ],
   "source": [
    "simplify(res.subs([(h0, r3/(2*N + r3 - 1)), \n",
    "                   (h1, 0), \n",
    "                   (h2, 0), \n",
    "                   (h3, -1/(2*N + r3 - 1))]))"
   ]
  },
  {
   "cell_type": "code",
   "execution_count": 64,
   "id": "e8c9bbda-85b9-474b-a53e-984da5742286",
   "metadata": {},
   "outputs": [
    {
     "data": {
      "text/latex": [
       "$\\displaystyle \\left[\\begin{matrix}\\frac{1.0 \\left(r_{3} - 1\\right)}{2 N + r_{3} - 1} & 0\\\\0 & \\frac{1.0 \\left(r_{3} + 1\\right)}{2 N + r_{3} - 1}\\end{matrix}\\right]$"
      ],
      "text/plain": [
       "[[1.0*(r_3 - 1)/(2*N + r_3 - 1), 0], [0, 1.0*(r_3 + 1)/(2*N + r_3 - 1)]]"
      ]
     },
     "execution_count": 64,
     "metadata": {},
     "output_type": "execute_result"
    }
   ],
   "source": [
    "simplify(r3/(2*N + r3 - 1)*I + -1/(2*N + r3 - 1)*Z)"
   ]
  },
  {
   "cell_type": "markdown",
   "id": "7724790e-78bc-4d25-a9ee-5f4c7a56fb10",
   "metadata": {},
   "source": [
    "If can control the input state"
   ]
  },
  {
   "cell_type": "code",
   "execution_count": 65,
   "id": "fec8ce75-9212-4671-b28e-bc8ad2cce1ee",
   "metadata": {},
   "outputs": [
    {
     "data": {
      "text/latex": [
       "$\\displaystyle 1.0 \\sqrt{1 - \\gamma}$"
      ],
      "text/plain": [
       "1.0*sqrt(1 - \\gamma)"
      ]
     },
     "execution_count": 65,
     "metadata": {},
     "output_type": "execute_result"
    }
   ],
   "source": [
    "simplify(res.subs([(h0, 0), (h1, 1/sqrt(2)), (h2, 1/sqrt(2)), (h3, 0),\n",
    "                            (r1, 1/sqrt(2)), (r2, 1/sqrt(2)), (r3, 0)]))"
   ]
  },
  {
   "cell_type": "markdown",
   "id": "74955240-13da-44d1-bc3e-234f983f132b",
   "metadata": {},
   "source": [
    "$N \\neq \\frac{1}{2}$"
   ]
  },
  {
   "cell_type": "code",
   "execution_count": 87,
   "id": "31ec6c39-b98f-43f0-b3b1-264eeede15b7",
   "metadata": {},
   "outputs": [
    {
     "data": {
      "text/latex": [
       "$\\displaystyle 1.0 \\gamma$"
      ],
      "text/plain": [
       "1.0*\\gamma"
      ]
     },
     "execution_count": 87,
     "metadata": {},
     "output_type": "execute_result"
    }
   ],
   "source": [
    "simplify(res.subs([(h0, 0), \n",
    "                   (h1, 0),\n",
    "                   (h2, h2),\n",
    "                   (h3, 1/(1 - 2*N)),\n",
    "                   (r1, r1),\n",
    "                   (r2, 0),\n",
    "                   (r3, 0)]))"
   ]
  },
  {
   "cell_type": "markdown",
   "id": "29c0e969-0fa7-4ca2-bf95-10b78c075f6e",
   "metadata": {},
   "source": [
    "$N = \\frac{1}{2}$"
   ]
  },
  {
   "cell_type": "code",
   "execution_count": 7,
   "id": "d7b6d4e3-bd70-42cb-82c2-41b77d75428b",
   "metadata": {},
   "outputs": [
    {
     "data": {
      "text/latex": [
       "$\\displaystyle 1.0 \\gamma$"
      ],
      "text/plain": [
       "1.0*\\gamma"
      ]
     },
     "execution_count": 7,
     "metadata": {},
     "output_type": "execute_result"
    }
   ],
   "source": [
    "simplify(res.subs([\n",
    "                   (N, 1/2),\n",
    "                   (h0, 1), \n",
    "                   (h1, 0),\n",
    "                   (h2, 0),\n",
    "                   (h3, -1),\n",
    "                   (r1, 0),\n",
    "                   (r2, 0),\n",
    "                   (r3, 1)\n",
    "                  ]))"
   ]
  },
  {
   "cell_type": "markdown",
   "id": "6ef3e01c-68f7-4c18-9174-758dc51b8b52",
   "metadata": {},
   "source": [
    "#### Fixed $\\gamma$"
   ]
  },
  {
   "cell_type": "code",
   "execution_count": 31,
   "id": "589480bc-627a-45e1-becb-951339b66912",
   "metadata": {},
   "outputs": [
    {
     "data": {
      "text/latex": [
       "$\\displaystyle - 2.0 N \\gamma h_{3} - 1.0 \\gamma h_{3} r_{3} + 1.0 \\gamma h_{3} + 1.0 h_{0} + 1.0 h_{1} r_{1} \\sqrt{1 - \\gamma} + 1.0 h_{2} r_{2} \\sqrt{1 - \\gamma} + 1.0 h_{3} r_{3}$"
      ],
      "text/plain": [
       "-2.0*N*\\gamma*h_3 - 1.0*\\gamma*h_3*r_3 + 1.0*\\gamma*h_3 + 1.0*h_0 + 1.0*h_1*r_1*sqrt(1 - \\gamma) + 1.0*h_2*r_2*sqrt(1 - \\gamma) + 1.0*h_3*r_3"
      ]
     },
     "execution_count": 31,
     "metadata": {},
     "output_type": "execute_result"
    }
   ],
   "source": [
    "simplify(res)"
   ]
  },
  {
   "cell_type": "code",
   "execution_count": 32,
   "id": "14b6ad50-f523-456d-bdaf-3fc9a94cfa62",
   "metadata": {},
   "outputs": [
    {
     "data": {
      "text/latex": [
       "$\\displaystyle h_{3} \\left(- 2.0 N \\gamma - 1.0 \\gamma r_{3} + 1.0 \\gamma + 1.0 r_{3}\\right)$"
      ],
      "text/plain": [
       "h_3*(-2.0*N*\\gamma - 1.0*\\gamma*r_3 + 1.0*\\gamma + 1.0*r_3)"
      ]
     },
     "execution_count": 32,
     "metadata": {},
     "output_type": "execute_result"
    }
   ],
   "source": [
    "simplify(res.subs([(h0, 0), \n",
    "                   (h1, 0), \n",
    "                   (h2, 0), \n",
    "                   (h3, h3)]))"
   ]
  },
  {
   "cell_type": "markdown",
   "id": "d54bdb7d-cfae-48a5-8e75-81e3e7c833dd",
   "metadata": {},
   "source": [
    "### Engineered Hamiltonian"
   ]
  },
  {
   "cell_type": "markdown",
   "id": "285c4ffa-ec7d-4a98-b1f1-a61a460f7447",
   "metadata": {},
   "source": [
    "#### Z eigenbasis"
   ]
  },
  {
   "cell_type": "code",
   "execution_count": 220,
   "id": "890f2ef8-5a10-4ba0-ba62-7634cab883e1",
   "metadata": {},
   "outputs": [
    {
     "data": {
      "text/latex": [
       "$\\displaystyle - 0.5 x_{0} \\left(N \\left(\\gamma - 1\\right) \\left(r_{3} + 1\\right) - \\gamma \\left(N - 1\\right) \\left(r_{3} - 1\\right) + \\left(N - 1\\right) \\left(r_{3} + 1\\right)\\right) - 0.5 x_{1} \\left(- N \\gamma \\left(r_{3} + 1\\right) + N \\left(r_{3} - 1\\right) + \\left(N - 1\\right) \\left(\\gamma - 1\\right) \\left(r_{3} - 1\\right)\\right)$"
      ],
      "text/plain": [
       "-0.5*x_0*(N*(\\gamma - 1)*(r_3 + 1) - \\gamma*(N - 1)*(r_3 - 1) + (N - 1)*(r_3 + 1)) - 0.5*x_1*(-N*\\gamma*(r_3 + 1) + N*(r_3 - 1) + (N - 1)*(\\gamma - 1)*(r_3 - 1))"
      ]
     },
     "execution_count": 220,
     "metadata": {},
     "output_type": "execute_result"
    }
   ],
   "source": [
    "H = Matrix(x0*P0 + x1*P1) # Z eigenbasis\n",
    "res = trace(Ra@H)\n",
    "simplify(res)"
   ]
  },
  {
   "cell_type": "markdown",
   "id": "2abf7094-7fb7-4643-ad6e-156b4431c497",
   "metadata": {},
   "source": [
    "$r_3 \\neq 0$, $N \\neq \\frac{1}{2}$"
   ]
  },
  {
   "cell_type": "code",
   "execution_count": 155,
   "id": "8d7a39b1-a3a5-42cb-b3fa-ff28b1b51eb2",
   "metadata": {},
   "outputs": [
    {
     "data": {
      "text/latex": [
       "$\\displaystyle 1.0 \\gamma$"
      ],
      "text/plain": [
       "1.0*\\gamma"
      ]
     },
     "execution_count": 155,
     "metadata": {},
     "output_type": "execute_result"
    }
   ],
   "source": [
    "simplify(res.subs([(x0, (r3 - 1)/(2*N + r3 - 1)),\n",
    "                   (x1, (r3 + 1)/(2*N + r3 - 1))\n",
    "                  ]))"
   ]
  },
  {
   "cell_type": "code",
   "execution_count": 221,
   "id": "97e184af-82e2-452b-a273-4fab254fdd01",
   "metadata": {},
   "outputs": [
    {
     "data": {
      "text/latex": [
       "$\\displaystyle 0.5 x_{0} + 0.5 x_{1}$"
      ],
      "text/plain": [
       "0.5*x_0 + 0.5*x_1"
      ]
     },
     "execution_count": 221,
     "metadata": {},
     "output_type": "execute_result"
    }
   ],
   "source": [
    "simplify(res.subs([(r3, 0),\n",
    "                   (N, 1/2),\n",
    "                   (x0, x0),\n",
    "                   (x1, x1)\n",
    "                  ]))"
   ]
  },
  {
   "cell_type": "code",
   "execution_count": 224,
   "id": "aba81c70-adad-4f1e-83c6-2c56ec48136b",
   "metadata": {},
   "outputs": [
    {
     "data": {
      "text/latex": [
       "$\\displaystyle 1.0 x_{0}$"
      ],
      "text/plain": [
       "1.0*x_0"
      ]
     },
     "execution_count": 224,
     "metadata": {},
     "output_type": "execute_result"
    }
   ],
   "source": [
    "simplify(res.subs([(r3, 1),\n",
    "                   (N, 0),\n",
    "                   (x0, x0),\n",
    "                   (x1, x1)\n",
    "                  ]))"
   ]
  },
  {
   "cell_type": "markdown",
   "id": "3bb58900-0c07-401c-b8f9-2e95e69463ba",
   "metadata": {
    "tags": []
   },
   "source": [
    "#### X eigenbasis"
   ]
  },
  {
   "cell_type": "code",
   "execution_count": 156,
   "id": "ecb63ce5-e089-4fbd-abd9-435e5f35fe9d",
   "metadata": {},
   "outputs": [
    {
     "data": {
      "text/latex": [
       "$\\displaystyle 0.5 r_{1} x_{0} \\sqrt{1 - \\gamma} - 0.5 r_{1} x_{1} \\sqrt{1 - \\gamma} + 0.5 x_{0} + 0.5 x_{1}$"
      ],
      "text/plain": [
       "0.5*r_1*x_0*sqrt(1 - \\gamma) - 0.5*r_1*x_1*sqrt(1 - \\gamma) + 0.5*x_0 + 0.5*x_1"
      ]
     },
     "execution_count": 156,
     "metadata": {},
     "output_type": "execute_result"
    }
   ],
   "source": [
    "H = Matrix(x0*PP + x1*PM) # X eigenbasis\n",
    "res = trace(Ra@H)\n",
    "simplify(res)"
   ]
  },
  {
   "cell_type": "markdown",
   "id": "f48480d8-f80b-4537-adbb-bce5cea26a96",
   "metadata": {},
   "source": [
    "$r_1 \\neq 0$"
   ]
  },
  {
   "cell_type": "code",
   "execution_count": 157,
   "id": "d1d2091c-f443-493b-b934-2f2692ce4b36",
   "metadata": {},
   "outputs": [
    {
     "data": {
      "text/latex": [
       "$\\displaystyle 1.0 \\sqrt{1 - \\gamma}$"
      ],
      "text/plain": [
       "1.0*sqrt(1 - \\gamma)"
      ]
     },
     "execution_count": 157,
     "metadata": {},
     "output_type": "execute_result"
    }
   ],
   "source": [
    "simplify(res.subs([(x0, 1/r1), (x1, -1/r1)]))"
   ]
  },
  {
   "cell_type": "markdown",
   "id": "7afc8979-0e91-45b0-86eb-9f614e566092",
   "metadata": {
    "tags": []
   },
   "source": [
    "#### Y eigenbasis"
   ]
  },
  {
   "cell_type": "code",
   "execution_count": 201,
   "id": "9b398da2-5f37-4ec5-8164-2624efad1319",
   "metadata": {},
   "outputs": [
    {
     "data": {
      "text/latex": [
       "$\\displaystyle 0.5 r_{2} x_{0} \\sqrt{1 - \\gamma} - 0.5 r_{2} x_{1} \\sqrt{1 - \\gamma} + 0.5 x_{0} + 0.5 x_{1}$"
      ],
      "text/plain": [
       "0.5*r_2*x_0*sqrt(1 - \\gamma) - 0.5*r_2*x_1*sqrt(1 - \\gamma) + 0.5*x_0 + 0.5*x_1"
      ]
     },
     "execution_count": 201,
     "metadata": {},
     "output_type": "execute_result"
    }
   ],
   "source": [
    "H = Matrix(x0*RP + x1*RM) # X eigenbasis\n",
    "res = trace(Ra@H)\n",
    "simplify(res)"
   ]
  },
  {
   "cell_type": "markdown",
   "id": "a711600c-66f7-4631-9b85-6d2c93083236",
   "metadata": {},
   "source": [
    "$r_2 \\neq 0$"
   ]
  },
  {
   "cell_type": "code",
   "execution_count": 202,
   "id": "9a9be029-8315-4f76-8a04-6f74a884d2b4",
   "metadata": {},
   "outputs": [
    {
     "data": {
      "text/latex": [
       "$\\displaystyle 1.0 \\sqrt{1 - \\gamma}$"
      ],
      "text/plain": [
       "1.0*sqrt(1 - \\gamma)"
      ]
     },
     "execution_count": 202,
     "metadata": {},
     "output_type": "execute_result"
    }
   ],
   "source": [
    "simplify(res.subs([(x0, 1/r2), (x1, -1/r2)]))"
   ]
  },
  {
   "cell_type": "markdown",
   "id": "90e0b69a-8090-4984-a2e7-acf2cb1867c6",
   "metadata": {
    "tags": []
   },
   "source": [
    "## degree 2"
   ]
  },
  {
   "cell_type": "code",
   "execution_count": 56,
   "id": "0c6d6003-557c-4627-96b5-a133c5bd1747",
   "metadata": {},
   "outputs": [
    {
     "data": {
      "text/latex": [
       "$\\displaystyle 4.0 N^{2} \\gamma^{2} h_{33} + 4.0 N \\gamma^{2} h_{33} r_{3} - 4.0 N \\gamma^{2} h_{33} - 2.0 N \\gamma h_{03} - 2.0 N \\gamma h_{13} r_{1} \\sqrt{1 - \\gamma} - 2.0 N \\gamma h_{23} r_{2} \\sqrt{1 - \\gamma} - 2.0 N \\gamma h_{30} - 2.0 N \\gamma h_{31} r_{1} \\sqrt{1 - \\gamma} - 2.0 N \\gamma h_{32} r_{2} \\sqrt{1 - \\gamma} - 4.0 N \\gamma h_{33} r_{3} + 1.0 \\gamma^{2} h_{33} r_{3}^{2} - 2.0 \\gamma^{2} h_{33} r_{3} + 1.0 \\gamma^{2} h_{33} - 1.0 \\gamma h_{03} r_{3} + 1.0 \\gamma h_{03} - 1.0 \\gamma h_{11} r_{1}^{2} - 1.0 \\gamma h_{12} r_{1} r_{2} - 1.0 \\gamma h_{13} r_{1} r_{3} \\sqrt{1 - \\gamma} + 1.0 \\gamma h_{13} r_{1} \\sqrt{1 - \\gamma} - 1.0 \\gamma h_{21} r_{1} r_{2} - 1.0 \\gamma h_{22} r_{2}^{2} - 1.0 \\gamma h_{23} r_{2} r_{3} \\sqrt{1 - \\gamma} + 1.0 \\gamma h_{23} r_{2} \\sqrt{1 - \\gamma} - 1.0 \\gamma h_{30} r_{3} + 1.0 \\gamma h_{30} - 1.0 \\gamma h_{31} r_{1} r_{3} \\sqrt{1 - \\gamma} + 1.0 \\gamma h_{31} r_{1} \\sqrt{1 - \\gamma} - 1.0 \\gamma h_{32} r_{2} r_{3} \\sqrt{1 - \\gamma} + 1.0 \\gamma h_{32} r_{2} \\sqrt{1 - \\gamma} - 2.0 \\gamma h_{33} r_{3}^{2} + 2.0 \\gamma h_{33} r_{3} + 1.0 h_{00} + 1.0 h_{01} r_{1} \\sqrt{1 - \\gamma} + 1.0 h_{02} r_{2} \\sqrt{1 - \\gamma} + 1.0 h_{03} r_{3} + 1.0 h_{10} r_{1} \\sqrt{1 - \\gamma} + 1.0 h_{11} r_{1}^{2} + 1.0 h_{12} r_{1} r_{2} + 1.0 h_{13} r_{1} r_{3} \\sqrt{1 - \\gamma} + 1.0 h_{20} r_{2} \\sqrt{1 - \\gamma} + 1.0 h_{21} r_{1} r_{2} + 1.0 h_{22} r_{2}^{2} + 1.0 h_{23} r_{2} r_{3} \\sqrt{1 - \\gamma} + 1.0 h_{30} r_{3} + 1.0 h_{31} r_{1} r_{3} \\sqrt{1 - \\gamma} + 1.0 h_{32} r_{2} r_{3} \\sqrt{1 - \\gamma} + 1.0 h_{33} r_{3}^{2}$"
      ],
      "text/plain": [
       "4.0*N**2*\\gamma**2*h_33 + 4.0*N*\\gamma**2*h_33*r_3 - 4.0*N*\\gamma**2*h_33 - 2.0*N*\\gamma*h_03 - 2.0*N*\\gamma*h_13*r_1*sqrt(1 - \\gamma) - 2.0*N*\\gamma*h_23*r_2*sqrt(1 - \\gamma) - 2.0*N*\\gamma*h_30 - 2.0*N*\\gamma*h_31*r_1*sqrt(1 - \\gamma) - 2.0*N*\\gamma*h_32*r_2*sqrt(1 - \\gamma) - 4.0*N*\\gamma*h_33*r_3 + 1.0*\\gamma**2*h_33*r_3**2 - 2.0*\\gamma**2*h_33*r_3 + 1.0*\\gamma**2*h_33 - 1.0*\\gamma*h_03*r_3 + 1.0*\\gamma*h_03 - 1.0*\\gamma*h_11*r_1**2 - 1.0*\\gamma*h_12*r_1*r_2 - 1.0*\\gamma*h_13*r_1*r_3*sqrt(1 - \\gamma) + 1.0*\\gamma*h_13*r_1*sqrt(1 - \\gamma) - 1.0*\\gamma*h_21*r_1*r_2 - 1.0*\\gamma*h_22*r_2**2 - 1.0*\\gamma*h_23*r_2*r_3*sqrt(1 - \\gamma) + 1.0*\\gamma*h_23*r_2*sqrt(1 - \\gamma) - 1.0*\\gamma*h_30*r_3 + 1.0*\\gamma*h_30 - 1.0*\\gamma*h_31*r_1*r_3*sqrt(1 - \\gamma) + 1.0*\\gamma*h_31*r_1*sqrt(1 - \\gamma) - 1.0*\\gamma*h_32*r_2*r_3*sqrt(1 - \\gamma) + 1.0*\\gamma*h_32*r_2*sqrt(1 - \\gamma) - 2.0*\\gamma*h_33*r_3**2 + 2.0*\\gamma*h_33*r_3 + 1.0*h_00 + 1.0*h_01*r_1*sqrt(1 - \\gamma) + 1.0*h_02*r_2*sqrt(1 - \\gamma) + 1.0*h_03*r_3 + 1.0*h_10*r_1*sqrt(1 - \\gamma) + 1.0*h_11*r_1**2 + 1.0*h_12*r_1*r_2 + 1.0*h_13*r_1*r_3*sqrt(1 - \\gamma) + 1.0*h_20*r_2*sqrt(1 - \\gamma) + 1.0*h_21*r_1*r_2 + 1.0*h_22*r_2**2 + 1.0*h_23*r_2*r_3*sqrt(1 - \\gamma) + 1.0*h_30*r_3 + 1.0*h_31*r_1*r_3*sqrt(1 - \\gamma) + 1.0*h_32*r_2*r_3*sqrt(1 - \\gamma) + 1.0*h_33*r_3**2"
      ]
     },
     "execution_count": 56,
     "metadata": {},
     "output_type": "execute_result"
    }
   ],
   "source": [
    "g = Symbol(\"\\gamma\")\n",
    "N = Symbol(\"N\")\n",
    "r1, r2, r3 = Symbol(\"r_1\"), Symbol(\"r_2\"), Symbol(\"r_3\")\n",
    "x0, x1 = Symbol(\"x_0\"), Symbol(\"x_1\")\n",
    "hs = [Symbol(\"h_\" + str(i) + str(j) + \"\") for i in range(4) for j in range(4)]\n",
    "\n",
    "paulies = [reduce(kron, el) for el in product([I, X, Y, Z], repeat=2)]\n",
    "H = zeros([4, 4], dtype=complex)\n",
    "for h, P in zip(hs, paulies):\n",
    "    H = H + h*P\n",
    "H = Matrix(H)\n",
    "\n",
    "K1 =  Matrix([[1,           0],\n",
    "              [0, sqrt(1 - g)]])*sqrt(1 - N)\n",
    "K2 =  Matrix([[0, sqrt(g*(1 - N))],\n",
    "              [0,               0]])\n",
    "K3 =  Matrix([[sqrt(1 - g), 0],\n",
    "              [          0, 1]])*sqrt(N)\n",
    "K4 =  Matrix([[0,         0],\n",
    "              [sqrt(g*N), 0]])\n",
    "\n",
    "R = Matrix(1/2*(I + r1*X + r2*Y + r3*Z))\n",
    "Rn = K1@R@K1.T + K2@R@K2.T  + K3@R@K3.T  + K4@R@K4.T\n",
    "Rn = TensorProduct(Rn, Rn)\n",
    "\n",
    "res = simplify(trace(Rn@H))\n",
    "res"
   ]
  },
  {
   "cell_type": "code",
   "execution_count": 57,
   "id": "3be25bcf-ccf0-4d81-94ac-9d5e1606e555",
   "metadata": {},
   "outputs": [
    {
     "data": {
      "text/latex": [
       "$\\displaystyle 1.0 h_{00} + 1.0 h_{03} + 1.0 h_{30} + 1.0 h_{33}$"
      ],
      "text/plain": [
       "1.0*h_00 + 1.0*h_03 + 1.0*h_30 + 1.0*h_33"
      ]
     },
     "execution_count": 57,
     "metadata": {},
     "output_type": "execute_result"
    }
   ],
   "source": [
    "simplify(res.subs([\n",
    "                   (r3, 1), # h00\n",
    "                   (r1, 0), # h00\n",
    "                   (r2, 0), # h00\n",
    "                   (N, 0), # h00\n",
    "                  ]))"
   ]
  },
  {
   "cell_type": "markdown",
   "id": "83f5cec1-6d0c-4e2a-996a-ecc4c2be8420",
   "metadata": {},
   "source": [
    "#### $r_1 \\neq 0$, $r_2 \\neq 0$"
   ]
  },
  {
   "cell_type": "code",
   "execution_count": 58,
   "id": "0ca96f8e-a155-4ea6-af78-a4500d50cafa",
   "metadata": {},
   "outputs": [
    {
     "data": {
      "text/latex": [
       "$\\displaystyle 1.0 \\gamma$"
      ],
      "text/plain": [
       "1.0*\\gamma"
      ]
     },
     "execution_count": 58,
     "metadata": {},
     "output_type": "execute_result"
    }
   ],
   "source": [
    "muls = uniform(-1, 1, 4); muls = muls/sum(muls)\n",
    "# muls = [Symbol(\"a\"), Symbol(\"b\"), Symbol(\"c\"), Symbol(\"d\")]\n",
    "simplify(res.subs([\n",
    "                   (hs[0], 1), # h00\n",
    "                   (hs[1], 0), # h01*r1*sqrt(1 - g)\n",
    "                   (hs[2], 0), # h02*r2*sqrt(1 - g)\n",
    "                   (hs[3], 0),  # h03*(-2*N*g - g*r3 + g + r3)\n",
    "                   (hs[4], 0), # h10*r1*sqrt(1 - g)\n",
    "                   (hs[5], -muls[0]/(r1**2)), # h11*r1^2*(1 - g)\n",
    "                   (hs[6], -muls[1]/(r1*r2)), # h12*r1*r2*(1 - g)\n",
    "                   (hs[7], 0), # h13*r1*sqrt(1 - g)*(-2*N*g - g*r3 + g + r3)\n",
    "                   (hs[8], 0), # h20*r2*sqrt(1 - g)\n",
    "                   (hs[9], -muls[2]/(r1*r2)), # h21*r1*r2*(1 - g) \n",
    "                   (hs[10], -muls[3]/(r2**2)), # h22*r2^2*(1 - g)\n",
    "                   (hs[11], 0), # h23*r2*sqrt(1 - g)*(-2*N*g - g*r3 + g + r3)\n",
    "                   (hs[12], 0), # h30*(-2*N*g - g*r3 + g + r3)\n",
    "                   (hs[13], 0), # h31*r1*sqrt(1 - g)*(-2*N*g - g*r3 + g + r3)\n",
    "                   (hs[14], 0), # h32*r2*sqrt(1 - g)*(-2*N*g - g*r3 + g + r3)\n",
    "                   (hs[15], 0), # h33*(N^2*g^2 + N*g^2*r3 - N*g^2 - N*g*r3 + g^2*r3^2 - g^2*r3 + g^2 - g*r3^2 + g*r3 + r3^2)\n",
    "                  ]))"
   ]
  },
  {
   "cell_type": "markdown",
   "id": "5adcfa7a-1caa-4eb8-9f26-a6d9db2fb971",
   "metadata": {},
   "source": [
    "#### $r_3 \\neq 0$"
   ]
  },
  {
   "cell_type": "code",
   "execution_count": 50,
   "id": "b5cf50ed-a2ef-477a-95cd-3a7d18d93950",
   "metadata": {},
   "outputs": [
    {
     "data": {
      "text/latex": [
       "$\\displaystyle 1.0 \\gamma$"
      ],
      "text/plain": [
       "1.0*\\gamma"
      ]
     },
     "execution_count": 50,
     "metadata": {},
     "output_type": "execute_result"
    }
   ],
   "source": [
    "muls = uniform(-1, 1, 2); muls = muls/sum(muls)\n",
    "# muls = [Symbol(\"a\"), Symbol(\"b\")]\n",
    "simplify(res.subs([\n",
    "                   (hs[0], r3/(2*N + r3 - 1)), # h00\n",
    "                   (hs[1], 0), # h01*r1*sqrt(1 - g)\n",
    "                   (hs[2], 0), # h02*r2*sqrt(1 - g)\n",
    "                   (hs[3], -muls[0]/(2*N + r3 - 1)),  # h03*(-2*N*g - g*r3 + g + r3)\n",
    "                   (hs[4], 0), # h10*r1*sqrt(1 - g)\n",
    "                   (hs[5], 0), # h11*r1^2*(1 - g)\n",
    "                   (hs[6], 0), # h12*r1*r2*(1 - g)\n",
    "                   (hs[7], 0), # h13*r1*sqrt(1 - g)*(-2*N*g - g*r3 + g + r3)\n",
    "                   (hs[8], 0), # h20*r2*sqrt(1 - g)\n",
    "                   (hs[9], 0), # h21*r1*r2*(1 - g) \n",
    "                   (hs[10], 0), # h22*r2^2*(1 - g)\n",
    "                   (hs[11], 0), # h23*r2*sqrt(1 - g)*(-2*N*g - g*r3 + g + r3)\n",
    "                   (hs[12], -muls[1]/(2*N + r3 - 1)), # h30*(-2*N*g - g*r3 + g + r3)\n",
    "                   (hs[13], 0), # h31*r1*sqrt(1 - g)*(-2*N*g - g*r3 + g + r3)\n",
    "                   (hs[14], 0), # h32*r2*sqrt(1 - g)*(-2*N*g - g*r3 + g + r3)\n",
    "                   (hs[15], 0), # h33*(N^2*g^2 + N*g^2*r3 - N*g^2 - N*g*r3 + g^2*r3^2 - g^2*r3 + g^2 - g*r3^2 + g*r3 + r3^2)\n",
    "                  ]))"
   ]
  },
  {
   "cell_type": "markdown",
   "id": "1cba8dfb-2ee4-4a01-9dca-54898403e22f",
   "metadata": {},
   "source": [
    "### Engineered Hamiltonian"
   ]
  },
  {
   "cell_type": "markdown",
   "id": "29734907-ead1-495d-aa96-8c31f667eb92",
   "metadata": {},
   "source": [
    "#### $r_3 \\neq 0$ and $N \\neq \\frac{1}{2}$"
   ]
  },
  {
   "cell_type": "code",
   "execution_count": 292,
   "id": "2629c3bc-2381-4e05-bf50-240121ebd447",
   "metadata": {},
   "outputs": [
    {
     "data": {
      "text/latex": [
       "$\\displaystyle - 1.0 N \\gamma x_{0} + 1.0 N \\gamma x_{1} - 0.5 \\gamma r_{3} x_{0} + 0.5 \\gamma r_{3} x_{1} + 0.5 \\gamma x_{0} - 0.5 \\gamma x_{1} + 0.5 r_{3} x_{0} - 0.5 r_{3} x_{1} + 0.5 x_{0} + 0.5 x_{1}$"
      ],
      "text/plain": [
       "-1.0*N*\\gamma*x_0 + 1.0*N*\\gamma*x_1 - 0.5*\\gamma*r_3*x_0 + 0.5*\\gamma*r_3*x_1 + 0.5*\\gamma*x_0 - 0.5*\\gamma*x_1 + 0.5*r_3*x_0 - 0.5*r_3*x_1 + 0.5*x_0 + 0.5*x_1"
      ]
     },
     "execution_count": 292,
     "metadata": {},
     "output_type": "execute_result"
    }
   ],
   "source": [
    "H = Matrix(x0*(kron(P0, P0) + kron(P0, P1)) + x1*(kron(P1, P0) + kron(P1, P1))) # Z eigenbasis\n",
    "res = trace(Rn@H)\n",
    "simplify(res)"
   ]
  },
  {
   "cell_type": "code",
   "execution_count": 293,
   "id": "691ff199-6885-4fe8-9050-dc4b31cbd9f3",
   "metadata": {},
   "outputs": [
    {
     "data": {
      "text/latex": [
       "$\\displaystyle 1.0 \\gamma$"
      ],
      "text/plain": [
       "1.0*\\gamma"
      ]
     },
     "execution_count": 293,
     "metadata": {},
     "output_type": "execute_result"
    }
   ],
   "source": [
    "simplify(res.subs([(x0, (-1 + r3)/(2*N + r3 - 1)),\n",
    "                   (x1, (1 + r3)/(2*N + r3 - 1))\n",
    "                  ]))"
   ]
  },
  {
   "cell_type": "markdown",
   "id": "68752aea-04b7-4b07-b02d-71329abe491a",
   "metadata": {},
   "source": [
    "#### $r_1 \\neq 0$"
   ]
  },
  {
   "cell_type": "code",
   "execution_count": 294,
   "id": "1851f989-4aa4-4683-a747-68c5a3efe3e8",
   "metadata": {},
   "outputs": [
    {
     "data": {
      "text/latex": [
       "$\\displaystyle - 0.5 \\gamma r_{1}^{2} x_{0} + 0.5 \\gamma r_{1}^{2} x_{1} + 0.5 r_{1}^{2} x_{0} - 0.5 r_{1}^{2} x_{1} + 0.5 x_{0} + 0.5 x_{1}$"
      ],
      "text/plain": [
       "-0.5*\\gamma*r_1**2*x_0 + 0.5*\\gamma*r_1**2*x_1 + 0.5*r_1**2*x_0 - 0.5*r_1**2*x_1 + 0.5*x_0 + 0.5*x_1"
      ]
     },
     "execution_count": 294,
     "metadata": {},
     "output_type": "execute_result"
    }
   ],
   "source": [
    "H = Matrix(x0*(kron(PP, PP) + kron(PM, PM)) + x1*(kron(PP, PM) + kron(PM, PP))) # X eigenbasis\n",
    "res = trace(Rn@H)\n",
    "simplify(res)"
   ]
  },
  {
   "cell_type": "code",
   "execution_count": 295,
   "id": "0d9d192b-1b69-4403-ad26-35e1fba39a26",
   "metadata": {},
   "outputs": [
    {
     "data": {
      "text/latex": [
       "$\\displaystyle 1.0 \\gamma$"
      ],
      "text/plain": [
       "1.0*\\gamma"
      ]
     },
     "execution_count": 295,
     "metadata": {},
     "output_type": "execute_result"
    }
   ],
   "source": [
    "simplify(res.subs([(x0, 1 - 1/r1**2), (x1, 1 + 1/r1**2)]))"
   ]
  },
  {
   "cell_type": "markdown",
   "id": "076eee11-9a74-4ba7-81ed-87a134ea092d",
   "metadata": {},
   "source": [
    "#### $r_2 \\neq 0$"
   ]
  },
  {
   "cell_type": "code",
   "execution_count": 296,
   "id": "b54b23ae-ee70-4b82-967c-786bbd1ae19c",
   "metadata": {},
   "outputs": [
    {
     "data": {
      "text/latex": [
       "$\\displaystyle - 0.5 \\gamma r_{2}^{2} x_{0} + 0.5 \\gamma r_{2}^{2} x_{1} + 0.5 r_{2}^{2} x_{0} - 0.5 r_{2}^{2} x_{1} + 0.5 x_{0} + 0.5 x_{1}$"
      ],
      "text/plain": [
       "-0.5*\\gamma*r_2**2*x_0 + 0.5*\\gamma*r_2**2*x_1 + 0.5*r_2**2*x_0 - 0.5*r_2**2*x_1 + 0.5*x_0 + 0.5*x_1"
      ]
     },
     "execution_count": 296,
     "metadata": {},
     "output_type": "execute_result"
    }
   ],
   "source": [
    "H = Matrix(x0*(kron(RP, RP) + kron(RM, RM)) + x1*(kron(RP, RM) + kron(RM, RP))) # Y eigenbasis\n",
    "res = trace(Rn@H)\n",
    "simplify(res)"
   ]
  },
  {
   "cell_type": "code",
   "execution_count": 297,
   "id": "56bd9b44-e085-48e1-b309-07950c8dc73a",
   "metadata": {},
   "outputs": [
    {
     "data": {
      "text/latex": [
       "$\\displaystyle 1.0 \\gamma$"
      ],
      "text/plain": [
       "1.0*\\gamma"
      ]
     },
     "execution_count": 297,
     "metadata": {},
     "output_type": "execute_result"
    }
   ],
   "source": [
    "simplify(res.subs([(x0, 1 - 1/r2**2), (x1, 1 + 1/r2**2)]))"
   ]
  },
  {
   "cell_type": "markdown",
   "id": "8d3371ae-02cc-4f5e-b680-59bb0e5aa890",
   "metadata": {},
   "source": [
    "#### $r_1 \\neq 0$ and $r_2 \\neq 0$"
   ]
  },
  {
   "cell_type": "code",
   "execution_count": 320,
   "id": "8c7c0075-324b-4de7-b797-c70425a26ea0",
   "metadata": {},
   "outputs": [
    {
     "data": {
      "text/latex": [
       "$\\displaystyle \\left[\\begin{matrix}1.0 & 0 & 0 & \\frac{1.0 \\left(- a r_{2}^{2} + d r_{1}^{2} + i r_{1} r_{2} \\left(b + c\\right)\\right)}{r_{1}^{2} r_{2}^{2}}\\\\0 & 1.0 & \\frac{1.0 \\left(- a r_{2}^{2} - d r_{1}^{2} + i r_{1} r_{2} \\left(- b + c\\right)\\right)}{r_{1}^{2} r_{2}^{2}} & 0\\\\0 & \\frac{1.0 \\left(- a r_{2}^{2} - d r_{1}^{2} + i r_{1} r_{2} \\left(b - c\\right)\\right)}{r_{1}^{2} r_{2}^{2}} & 1.0 & 0\\\\\\frac{1.0 \\left(- a r_{2}^{2} + d r_{1}^{2} - i r_{1} r_{2} \\left(b + c\\right)\\right)}{r_{1}^{2} r_{2}^{2}} & 0 & 0 & 1.0\\end{matrix}\\right]$"
      ],
      "text/plain": [
       "[[1.0, 0, 0, 1.0*(-a*r_2**2 + d*r_1**2 + I*r_1*r_2*(b + c))/(r_1**2*r_2**2)], [0, 1.0, 1.0*(-a*r_2**2 - d*r_1**2 + I*r_1*r_2*(-b + c))/(r_1**2*r_2**2), 0], [0, 1.0*(-a*r_2**2 - d*r_1**2 + I*r_1*r_2*(b - c))/(r_1**2*r_2**2), 1.0, 0], [1.0*(-a*r_2**2 + d*r_1**2 - I*r_1*r_2*(b + c))/(r_1**2*r_2**2), 0, 0, 1.0]]"
      ]
     },
     "execution_count": 320,
     "metadata": {},
     "output_type": "execute_result"
    }
   ],
   "source": [
    "# muls = uniform(-1, 1, 4); muls = muls/sum(muls)\n",
    "muls = [Symbol(\"a\"), Symbol(\"b\"), Symbol(\"c\"), Symbol(\"d\")]\n",
    "simplify(\n",
    "    kron(I, I)\n",
    "    -muls[0]/(r1**2)*kron(X, X)\n",
    "    -muls[1]/(r1*r2)*kron(X, Y)\n",
    "    -muls[2]/(r1*r2)*kron(Y, X)\n",
    "    -muls[3]/(r2**2)*kron(Y, Y)\n",
    ")"
   ]
  },
  {
   "cell_type": "code",
   "execution_count": 379,
   "id": "044f6d97-f04f-4f97-abc8-c3b0addd0de0",
   "metadata": {},
   "outputs": [],
   "source": [
    "XX = kron(X, X)\n",
    "YY = kron(Y, Y)\n",
    "Phi_p = array([1, 0, 0, 1])/np.sqrt(2)\n",
    "Phi_m = array([1, 0, 0, -1])/np.sqrt(2)\n",
    "Psi_p = array([0, 1, 1, 0])/np.sqrt(2)\n",
    "Psi_m = array([0, 1, -1, 0])/np.sqrt(2)\n",
    "\n",
    "XY = kron(X, Y)\n",
    "YX = kron(Y, X)\n",
    "Phi_i_p = array([1, 0, 0, 1j])/np.sqrt(2)\n",
    "Phi_i_m = array([1, 0, 0, -1j])/np.sqrt(2)\n",
    "Psi_i_p = array([0, 1, 1j, 0])/np.sqrt(2)\n",
    "Psi_i_m = array([0, 1, -1j, 0])/np.sqrt(2)"
   ]
  },
  {
   "cell_type": "markdown",
   "id": "837ed561-8883-48f6-ac22-4422012ca8c2",
   "metadata": {
    "tags": []
   },
   "source": [
    "# Pauli"
   ]
  },
  {
   "cell_type": "code",
   "execution_count": 151,
   "id": "d950de85-db86-4afc-b8c2-4efbdea6b64f",
   "metadata": {},
   "outputs": [
    {
     "data": {
      "text/latex": [
       "$\\displaystyle 1.0 h_{0} p_{1} + 1.0 h_{0} p_{2} + 1.0 h_{0} p_{3} + 1.0 h_{0} + 1.0 h_{1} p_{1} r_{1} - 1.0 h_{1} p_{2} r_{1} - 1.0 h_{1} p_{3} r_{1} + 1.0 h_{1} r_{1} - 1.0 h_{2} p_{1} r_{2} + 1.0 h_{2} p_{2} r_{2} - 1.0 h_{2} p_{3} r_{2} + 1.0 h_{2} r_{2} - 1.0 h_{3} p_{1} r_{3} - 1.0 h_{3} p_{2} r_{3} + 1.0 h_{3} p_{3} r_{3} + 1.0 h_{3} r_{3}$"
      ],
      "text/plain": [
       "1.0*h_0*p_1 + 1.0*h_0*p_2 + 1.0*h_0*p_3 + 1.0*h_0 + 1.0*h_1*p_1*r_1 - 1.0*h_1*p_2*r_1 - 1.0*h_1*p_3*r_1 + 1.0*h_1*r_1 - 1.0*h_2*p_1*r_2 + 1.0*h_2*p_2*r_2 - 1.0*h_2*p_3*r_2 + 1.0*h_2*r_2 - 1.0*h_3*p_1*r_3 - 1.0*h_3*p_2*r_3 + 1.0*h_3*p_3*r_3 + 1.0*h_3*r_3"
      ]
     },
     "execution_count": 151,
     "metadata": {},
     "output_type": "execute_result"
    }
   ],
   "source": [
    "p0, p1, p2, p3 = Symbol(\"p_0\"), Symbol(\"p_1\"), Symbol(\"p_2\"), Symbol(\"p_3\")\n",
    "r1, r2, r3 = Symbol(\"r_1\"), Symbol(\"r_2\"), Symbol(\"r_3\")\n",
    "h0, h1, h2, h3 = Symbol(\"h_0\"), Symbol(\"h_1\"), Symbol(\"h_2\"), Symbol(\"h_3\")\n",
    "x0, x1 = Symbol(\"x_0\"), Symbol(\"x_1\")\n",
    "\n",
    "R = Matrix(1/2*(I + r1*X + r2*Y + r3*Z))\n",
    "H = Matrix(h0*I + h1*X + h2*Y + h3*Z)\n",
    "\n",
    "p0 = 1\n",
    "Ra = p0*R + p1*X@R@X + p2*Y@R@Y + p3*Z@R@Z \n",
    "res = trace(Ra@H)\n",
    "simplify(res)"
   ]
  }
 ],
 "metadata": {
  "kernelspec": {
   "display_name": "Python 3",
   "language": "python",
   "name": "python3"
  },
  "language_info": {
   "codemirror_mode": {
    "name": "ipython",
    "version": 3
   },
   "file_extension": ".py",
   "mimetype": "text/x-python",
   "name": "python",
   "nbconvert_exporter": "python",
   "pygments_lexer": "ipython3",
   "version": "3.11.7"
  }
 },
 "nbformat": 4,
 "nbformat_minor": 5
}
