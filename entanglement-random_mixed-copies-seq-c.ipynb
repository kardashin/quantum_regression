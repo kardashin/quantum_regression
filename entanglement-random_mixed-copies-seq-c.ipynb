{
 "cells": [
  {
   "cell_type": "code",
   "execution_count": 1,
   "id": "a554c6f8-394e-4c32-af26-877a6f70cee2",
   "metadata": {},
   "outputs": [],
   "source": [
    "from qpe import *\n",
    "\n",
    "from numpy.random import permutation\n",
    "\n",
    "from time import time\n",
    "from scipy.stats import gaussian_kde\n",
    "\n",
    "import matplotlib\n",
    "import matplotlib.pyplot as plt\n",
    "from matplotlib.colors import LinearSegmentedColormap\n",
    "\n",
    "matplotlib.rcParams['font.family']='serif'\n",
    "matplotlib.rcParams['axes.unicode_minus']=False\n",
    "matplotlib.rcParams.update({'font.size': 20})\n",
    "matplotlib.rc('text', usetex=True)"
   ]
  },
  {
   "cell_type": "code",
   "execution_count": 2,
   "id": "57d4f24c-9791-47ff-892f-1d2b32442b5a",
   "metadata": {},
   "outputs": [],
   "source": [
    "def aux_info(dms, labels, n_layers, pars, n_copies=1, n_meas=0):\n",
    "\n",
    "    n_inp = int(log2(len(dms[0])))\n",
    "    n_tot = n_inp*n_copies\n",
    "    d = 2**n_tot\n",
    "    d_diff = 2**(n_tot - n_meas)\n",
    "    \n",
    "    if n_meas == 0:\n",
    "        n_meas = n_tot\n",
    "    \n",
    "    pars_ans = pars[:-2**n_meas]\n",
    "    pars_est = pars[-2**n_meas:]\n",
    "    \n",
    "    ansatz = hea_cry_rzrx(n_tot, n_layers, pars_ans)\n",
    "    # CX_cascade = cx_cascade(n_tot)\n",
    "    # ansatz = hea_cx_rzrx(n_tot, n_layers, CX_cascade, pars_ans)\n",
    "\n",
    "    obs_u = ansatz.conj().T@kron_A_N(diag(pars_est), d_diff)@ansatz\n",
    "    obs_u_sq = obs_u@obs_u\n",
    "    \n",
    "    # projs = [reduce(kron, [diag(line), eye(2**(n_tot - n_meas))]) for line in eye(2**n_meas)]\n",
    "    # projs_u = [ansatz.conj().T@proj@ansatz for proj in projs]\n",
    "\n",
    "    dms_cop = [reduce(kron, [dm]*n_copies) for dm in dms]\n",
    "    \n",
    "    expecs = []\n",
    "    disps = []\n",
    "    for dm in dms_cop:\n",
    "        expec = trace(dm@obs_u).real\n",
    "        disp = trace(dm@obs_u_sq).real - expec**2\n",
    "        expecs.append(expec)\n",
    "        disps.append(disp)\n",
    "        \n",
    "    \n",
    "    return array(expecs), array(disps)"
   ]
  },
  {
   "cell_type": "markdown",
   "id": "d23c77dd-6d28-45b3-bbf2-d00785ad47bb",
   "metadata": {},
   "source": [
    "### Settings"
   ]
  },
  {
   "cell_type": "code",
   "execution_count": 3,
   "id": "31899640-8439-4f94-bcdc-6af2af67c1e6",
   "metadata": {},
   "outputs": [
    {
     "name": "stdout",
     "output_type": "stream",
     "text": [
      "9999\r"
     ]
    }
   ],
   "source": [
    "n_inp = 2\n",
    "n_test = 10000\n",
    "mixed = True\n",
    "marks = \"neg\"\n",
    "\n",
    "dms_test, labels_test = gen_even_ent_data(n_test, n_inp=n_inp, mixed=mixed, marks=marks)\n",
    "purities_test = [trace(dm@dm).real for dm in dms_test]"
   ]
  },
  {
   "cell_type": "markdown",
   "id": "b8bbea4a-e458-4806-8e18-da70de43ce20",
   "metadata": {},
   "source": [
    "## Pass $T$"
   ]
  },
  {
   "cell_type": "code",
   "execution_count": 5,
   "id": "5da304dd-8d56-45b3-968f-504458892ea2",
   "metadata": {},
   "outputs": [],
   "source": [
    "n_copies = 2\n",
    "n_layers = 2\n",
    "n_tot = n_inp*n_copies\n",
    "n_meas = n_inp*n_copies"
   ]
  },
  {
   "cell_type": "code",
   "execution_count": 6,
   "id": "0d5cbf72-c3c8-4a40-b717-3a0291741387",
   "metadata": {},
   "outputs": [
    {
     "data": {
      "text/plain": [
       "'/home/kardashin/Work/QPE/Results/Entanglement/Training_set_size/c=2-m=4-l=2-w_ls=1.0-w_var=0.0001-T=(100,400,100)-BFGS'"
      ]
     },
     "execution_count": 6,
     "metadata": {},
     "output_type": "execute_result"
    }
   ],
   "source": [
    "w_ls = 1e0\n",
    "w_var = 1e-4\n",
    "method = \"BFGS\"\n",
    "options = {\"maxiter\": int(1e6)}#, \"maxfun\": int(1e10)}#\n",
    "T_min, T_max, T_step = 100, 700, 100\n",
    "n_train_list = arange(T_min, T_max + 1, T_step)\n",
    "\n",
    "n_runs = 2\n",
    "\n",
    "path = \"/home/kardashin/Work/QPE/Results/Entanglement/Training_set_size/\"\n",
    "pref = \"c=%d-m=%d-l=%d-w_ls=%.1f-w_var=%.4f-T=(%d,%d,%d)-%s\" %(n_copies, n_meas, n_layers, w_ls, w_var, T_min, T_max, T_step, method)\n",
    "path + pref"
   ]
  },
  {
   "cell_type": "code",
   "execution_count": 8,
   "id": "82cda6ce-6f54-4172-88c5-af387d41eb04",
   "metadata": {},
   "outputs": [
    {
     "name": "stdout",
     "output_type": "stream",
     "text": [
      "r: 0\n",
      "\tn_train: 100\n",
      "\t\tTraining\n",
      "\t\t\tIteration: 184 | Cost: 0.55977521 | Time passed: 16 s\n",
      "\t\t\tFinished in 16.149211883544922\n",
      "\t\t\t Optimization terminated successfully.\n",
      "\t\t\tCost: 0.5597752087117462\n",
      "\t\tTesting\n",
      "\t\t\tTesting error: 330.57414075005346\n",
      "\tn_train: 200\n",
      "\t\tTraining\n",
      "\t\t\tIteration: 337 | Cost: 0.34381403 | Time passed: 47 s\n",
      "\t\t\tFinished in 47.03334069252014\n",
      "\t\t\t Optimization terminated successfully.\n",
      "\t\t\tCost: 0.3438140295299991\n",
      "\t\tTesting\n",
      "\t\t\tTesting error: 33.052606332001105\n",
      "\tn_train: 300\n",
      "\t\tTraining\n",
      "\t\t\tIteration: 135 | Cost: 0.54477856 | Time passed: 26 s\n",
      "\t\t\tFinished in 26.214076280593872\n",
      "\t\t\t Optimization terminated successfully.\n",
      "\t\t\tCost: 0.5447785628830611\n",
      "\t\tTesting\n",
      "\t\t\tTesting error: 26.774699973071982\n",
      "\tn_train: 400\n",
      "\t\tTraining\n",
      "\t\t\tIteration: 80 | Cost: 0.75279218 | Time passed: 20 s\n",
      "\t\t\tFinished in 20.90498924255371\n",
      "\t\t\t Optimization terminated successfully.\n",
      "\t\t\tCost: 0.7527921764409504\n",
      "\t\tTesting\n",
      "\t\t\tTesting error: 25.116074960875007\n",
      "r: 1\n",
      "\tn_train: 100\n",
      "\t\tTraining\n",
      "\t\t\tIteration: 222 | Cost: 0.61214600 | Time passed: 19 s\n",
      "\t\t\tFinished in 19.157137870788574\n",
      "\t\t\t Optimization terminated successfully.\n",
      "\t\t\tCost: 0.6121459973512784\n",
      "\t\tTesting\n",
      "\t\t\tTesting error: 196.37135571367557\n",
      "\tn_train: 200\n",
      "\t\tTraining\n",
      "\t\t\tIteration: 147 | Cost: 1.63894544 | Time passed: 20 s\n",
      "\t\t\tFinished in 20.793994665145874\n",
      "\t\t\t Optimization terminated successfully.\n",
      "\t\t\tCost: 1.6389454449547993\n",
      "\t\tTesting\n",
      "\t\t\tTesting error: 146.0156866728065\n",
      "\tn_train: 300\n",
      "\t\tTraining\n",
      "\t\t\tIteration: 180 | Cost: 2.81779474 | Time passed: 37 s\n",
      "\t\t\tFinished in 37.26969027519226\n",
      "\t\t\t Optimization terminated successfully.\n",
      "\t\t\tCost: 2.8177947411800073\n",
      "\t\tTesting\n",
      "\t\t\tTesting error: 120.85799713520362\n",
      "\tn_train: 400\n",
      "\t\tTraining\n",
      "\t\t\tIteration: 132 | Cost: 3.51787109 | Time passed: 34 s\n",
      "\t\t\tFinished in 34.53168702125549\n",
      "\t\t\t Optimization terminated successfully.\n",
      "\t\t\tCost: 3.5178710929911197\n",
      "\t\tTesting\n",
      "\t\t\tTesting error: 123.02953927896957\n"
     ]
    }
   ],
   "source": [
    "fvals_list = []\n",
    "xf_list = []\n",
    "nfev_list = []\n",
    "time_list = []\n",
    "error_test_list = []\n",
    "dms_train_full_list = []\n",
    "labels_train_full_list = []\n",
    "\n",
    "for r in range(n_runs):\n",
    "    print(\"r: %d\" %r)\n",
    "\n",
    "    dms_train_full, labels_train_full = gen_even_ent_data(n_train_list[-1], n_inp=n_inp, mixed=mixed, marks=marks)\n",
    "    # shuffle\n",
    "    perm = permutation(len(labels_train_full))\n",
    "    dms_train_full = array(dms_train_full)[perm]\n",
    "    labels_train_full = array(labels_train_full)[perm]\n",
    "    dms_train_full_list.append(dms_train_full)\n",
    "    labels_train_full_list.append(labels_train_full)\n",
    "\n",
    "    file_name = path + pref + \"-r=%d\"%r\n",
    "    np.save(file_name + \"-labels_train\", dms_train_full)\n",
    "    np.save(file_name + \"-dms_train\", labels_train_full)\n",
    "    \n",
    "    x0 = array(concatenate([uniform(0, 2*pi, (3*n_layers + 2)*n_tot), uniform(0, 1, 2**n_meas)]))\n",
    "    \n",
    "    fvals_list_r = []\n",
    "    xf_list_r = []\n",
    "    nfev_list_r = []\n",
    "    time_list_r = []\n",
    "    error_test_list_r = []\n",
    "    for n_train in n_train_list:\n",
    "        print(\"\\tn_train: %d\" %n_train)\n",
    "        \n",
    "        dms_train = dms_train_full[:n_train]\n",
    "        labels_train = labels_train_full[:n_train]\n",
    "\n",
    "        file_name = path + pref + \"-r=%d-Tr=%d\"%(r, n_train)\n",
    "        \n",
    "        print(\"\\t\\tTraining\")\n",
    "        time_start = time()\n",
    "        fvals, result = train(dms_train, labels_train, n_layers, \n",
    "                                  n_copies=n_copies, n_meas=n_meas, x0=x0,\n",
    "                                  method=method, w_ls=w_ls, w_var=w_var, options=options,\n",
    "                                  save_data=True, file_name=file_name)\n",
    "        time_finish = time() - time_start\n",
    "        print(\"\\n\\t\\t\\tFinished in\", time_finish)\n",
    "        print(\"\\t\\t\\t\", result.message)\n",
    "        print(\"\\t\\t\\tCost:\", result.fun)\n",
    "        \n",
    "        x0 = result.x\n",
    "        \n",
    "        print(\"\\t\\tTesting\")\n",
    "    \n",
    "        expecs_test, disps_test = aux_info(dms_test, labels_test, n_layers, result.x, n_copies=n_copies, n_meas=n_meas)\n",
    "        error_test = np.sum((expecs_test - labels_test)**2)\n",
    "        print(\"\\t\\t\\tTesting error:\", error_test)\n",
    "\n",
    "        fvals_list_r.append(fvals)\n",
    "        xf_list_r.append(result.x)\n",
    "        nfev_list_r.append(result.nfev)\n",
    "        time_list_r.append(time_finish)\n",
    "        error_test_list_r.append(error_test)\n",
    "\n",
    "        np.save(file_name + \"-fvals\", array(fvals_list_r, dtype=object))\n",
    "        np.save(file_name + \"-pars\", array(xf_list_r))\n",
    "        np.save(file_name + \"-nfev\", array(nfev_list_r))\n",
    "        np.save(file_name + \"-time\", array(time_list_r))\n",
    "        np.save(file_name + \"-error\", array(error_test_list_r))\n",
    "\n",
    "    fvals_list.append(fvals_list_r)\n",
    "    xf_list.append(xf_list_r)\n",
    "    nfev_list.append(nfev_list_r)\n",
    "    time_list.append(time_list_r)\n",
    "    error_test_list.append(error_test_list_r)\n",
    "\n",
    "    file_name = path + pref + \"-r=%d\"%r\n",
    "    np.save(file_name + \"-fvals\", array(fvals_list_r, dtype=object))\n",
    "    np.save(file_name + \"-pars\", array(xf_list_r))\n",
    "    np.save(file_name + \"-nfev\", array(nfev_list_r))\n",
    "    np.save(file_name + \"-time\", array(time_list_r))\n",
    "    np.save(file_name + \"-error\", array(error_test_list_r))"
   ]
  },
  {
   "cell_type": "code",
   "execution_count": 12,
   "id": "b610555e-c862-42ef-b3f0-4729642fd41d",
   "metadata": {},
   "outputs": [
    {
     "name": "stdout",
     "output_type": "stream",
     "text": [
      "[ 16.25387422 -13.76788172  70.32868424]\n"
     ]
    },
    {
     "data": {
      "text/plain": [
       "[<matplotlib.lines.Line2D at 0x7f39f49d5c90>]"
      ]
     },
     "execution_count": 12,
     "metadata": {},
     "output_type": "execute_result"
    },
    {
     "data": {
      "image/png": "[encoded data removed]",
      "text/plain": [
       "<Figure size 640x480 with 1 Axes>"
      ]
     },
     "metadata": {},
     "output_type": "display_data"
    }
   ],
   "source": [
    "from scipy.optimize import curve_fit\n",
    "\n",
    "# method = \"lm\"\n",
    "# method = \"trf\"\n",
    "method = \"dogbox\"\n",
    "\n",
    "# def fit_func(x, a, b): return a*x**(-1/2) + b\n",
    "# def fit_func(x, a, b): return (x**a)*b\n",
    "def fit_func(x, a, b, c): return (x**b)*a + c\n",
    "\n",
    "# popt, pcov = curve_fit(fit_func, n_train_list, np.mean(error_test_list, axis=0), method=method)#, bounds=bounds)\n",
    "popt, pcov = curve_fit(fit_func, n_train_list, np.min(error_test_list, axis=0), method=method)#, bounds=bounds)\n",
    "\n",
    "print(popt)\n",
    "# plt.scatter(n_train_list, np.mean(error_test_list, axis=0))\n",
    "plt.scatter(n_train_list, np.min(error_test_list, axis=0), marker=\"x\")\n",
    "plt.plot(n_train_list, fit_func(n_train_list, *popt))"
   ]
  },
  {
   "cell_type": "code",
   "execution_count": 14,
   "id": "f559d5c1-e1d0-43d3-8a66-76b4365c873b",
   "metadata": {},
   "outputs": [
    {
     "data": {
      "image/png": "[encoded data removed]",
      "text/plain": [
       "<Figure size 640x480 with 1 Axes>"
      ]
     },
     "metadata": {},
     "output_type": "display_data"
    },
    {
     "data": {
      "image/png": "[encoded data removed]",
      "text/plain": [
       "<Figure size 640x480 with 1 Axes>"
      ]
     },
     "metadata": {},
     "output_type": "display_data"
    },
    {
     "data": {
      "image/png": "[encoded data removed]",
      "text/plain": [
       "<Figure size 640x480 with 1 Axes>"
      ]
     },
     "metadata": {},
     "output_type": "display_data"
    }
   ],
   "source": [
    "plt.errorbar(n_train_list, np.mean(error_test_list, axis=0), yerr=np.std(error_test_list, axis=0), linestyle=\"\", marker=\"o\", markersize=10, capsize=5, label=\"average\")\n",
    "plt.scatter(n_train_list, np.min(error_test_list, axis=0), marker=\"x\", s=100, label=\"minimal\")\n",
    "# plt.plot(n_train_list, [1e6*n_train**(-4/3) for n_train in n_train_list], label=\"fit\")\n",
    "# plt.plot(n_train_list, fit_func(n_train_list, *popt), label=r\"$%.3f\\, T^{%.3f} + %.3f$\" %tuple(popt))\n",
    "plt.xticks(n_train_list[::2], n_train_list[::2])\n",
    "plt.xlabel(r\"$T$, training set size\")\n",
    "plt.ylabel(r\"Testing error\")\n",
    "plt.yscale(\"log\")\n",
    "plt.grid()\n",
    "plt.legend()\n",
    "plt.show()\n",
    "\n",
    "plt.errorbar(n_train_list, np.mean(time_list, axis=0), yerr=np.std(time_list, axis=0), marker=\"o\", markersize=10, capsize=5)\n",
    "plt.xticks(n_train_list[::2], n_train_list[::2])\n",
    "plt.xlabel(r\"$T$, training set size\")\n",
    "plt.ylabel(r\"Training time\")\n",
    "plt.title(r\"Average total time: %d seconds\" %np.sum(np.mean(time_list, axis=0)))\n",
    "# plt.yscale(\"log\")\n",
    "plt.grid()\n",
    "plt.show()\n",
    "\n",
    "plt.errorbar(n_train_list, np.mean(nfev_list, axis=0), yerr=np.std(nfev_list, axis=0), marker=\"o\", markersize=10, capsize=5)\n",
    "plt.xticks(n_train_list[::2], n_train_list[::2])\n",
    "plt.xlabel(r\"$T$, training set size\")\n",
    "plt.ylabel(r\"Function evaluations\")\n",
    "plt.title(r\"Total function evaluations: %d\" %np.sum(np.mean(nfev_list, axis=0)))\n",
    "# plt.yscale(\"log\")\n",
    "plt.grid()\n",
    "plt.show()"
   ]
  },
  {
   "cell_type": "code",
   "execution_count": null,
   "id": "5339dfb0-ac63-4eed-ada6-741ae3619655",
   "metadata": {},
   "outputs": [],
   "source": []
  },
  {
   "cell_type": "code",
   "execution_count": null,
   "id": "c397ce8e-05d4-4c9e-bec4-d02c4b623e24",
   "metadata": {},
   "outputs": [],
   "source": []
  },
  {
   "cell_type": "code",
   "execution_count": null,
   "id": "60669cf7-d5ac-41f3-958a-afbccbc8a28c",
   "metadata": {},
   "outputs": [],
   "source": []
  },
  {
   "cell_type": "code",
   "execution_count": null,
   "id": "3e0a9214-a027-479e-b0d4-99a9750d7620",
   "metadata": {},
   "outputs": [],
   "source": []
  },
  {
   "cell_type": "code",
   "execution_count": null,
   "id": "925ed45a-f833-49be-be91-ec632b541bf2",
   "metadata": {},
   "outputs": [],
   "source": []
  },
  {
   "cell_type": "code",
   "execution_count": null,
   "id": "19284ac4-9547-401d-ae44-ed3bc76e73eb",
   "metadata": {},
   "outputs": [],
   "source": []
  },
  {
   "cell_type": "code",
   "execution_count": null,
   "id": "0677298c-68a9-48ed-be49-2f5568e878e3",
   "metadata": {},
   "outputs": [],
   "source": []
  },
  {
   "cell_type": "code",
   "execution_count": null,
   "id": "05873522-6974-4dc0-ad81-165b6eebe4b5",
   "metadata": {},
   "outputs": [],
   "source": []
  },
  {
   "cell_type": "code",
   "execution_count": null,
   "id": "875cb75a-f2ec-43a9-9040-0287f9ac71ad",
   "metadata": {},
   "outputs": [],
   "source": []
  },
  {
   "cell_type": "code",
   "execution_count": null,
   "id": "879eab0a-4d74-45be-9835-b1f16b56bb60",
   "metadata": {},
   "outputs": [],
   "source": []
  },
  {
   "cell_type": "code",
   "execution_count": null,
   "id": "94a1e542-98c0-4f81-9638-da79067ed087",
   "metadata": {},
   "outputs": [],
   "source": []
  },
  {
   "cell_type": "markdown",
   "id": "edfa1be1-c3ad-45c7-8584-cee77f1595b3",
   "metadata": {},
   "source": [
    "## Pass copies, $H_2 \\rightarrow H_2 \\otimes H_2$ "
   ]
  },
  {
   "cell_type": "code",
   "execution_count": 4,
   "id": "ba420340-3b38-4211-8792-8b26038ff9a6",
   "metadata": {},
   "outputs": [],
   "source": [
    "def duplicate_ansatz(pars, n_tot, n_meas, n_layers):\n",
    "    \"\"\"Given HEA ansatz parameters pars which produce an observable H, returns new ansatz parameters x0 which produce H⊗H.\"\"\"\n",
    "    x0 = []\n",
    "    it = iter(pars)\n",
    "    \n",
    "    # zeroth layer\n",
    "    x0_l = []\n",
    "    for q in range(n_tot):\n",
    "        x0_l.append(next(it)) # Rx\n",
    "        x0_l.append(next(it)) # Rz\n",
    "    x0_l = x0_l + x0_l # copy to the rest qubits\n",
    "    x0 = x0 + x0_l # add layer\n",
    "    \n",
    "    # the rest layers\n",
    "    for l in range(n_layers):\n",
    "        x0_l_t = [] # CRy rotations\n",
    "        for q in range(n_tot - 1):\n",
    "            x0_l_t.append(next(it)) # CRy(q, q + 1)\n",
    "        # if n_tot > 2:\n",
    "        #     x0_l_t.append(next(it))  # CRy(0, n - 1)\n",
    "        x0_l_t = x0_l_t + [0] + x0_l_t # set the CRy-gate between the parts to the identity, copy to the rest qubits\n",
    "        x0_l_s = [] # single-qubit rotations\n",
    "        for q in range(n_tot):\n",
    "            x0_l_s.append(next(it)) # Rx\n",
    "            x0_l_s.append(next(it)) # Rz\n",
    "        x0_l_s = x0_l_s + x0_l_s # copy to the rest qubits\n",
    "        x0 = x0 + x0_l_t + x0_l_s # add layer\n",
    "        \n",
    "    pars_est = pars[-2**n_meas:] # eigenvalues x_i\n",
    "    x0_est = []\n",
    "    for i in range(2**n_meas):\n",
    "        for j in range(2**n_meas):\n",
    "            x0_est.append(pars_est[i]*pars_est[j])\n",
    "    x0 = x0 + x0_est\n",
    "    \n",
    "    return x0"
   ]
  },
  {
   "cell_type": "code",
   "execution_count": 5,
   "id": "31bdc698-aa5d-4a15-bde4-65d872885502",
   "metadata": {},
   "outputs": [
    {
     "name": "stdout",
     "output_type": "stream",
     "text": [
      "1.5647685081176247e-14\n",
      "5.731219629874708e-11\n"
     ]
    }
   ],
   "source": [
    "n_inp = 2\n",
    "n_copies = 2\n",
    "n_tot = n_inp*n_copies\n",
    "n_meas = n_inp*n_copies\n",
    "d_diff = 2**(n_tot - n_meas)\n",
    "n_layers = 3\n",
    "\n",
    "n_pars_est = 2**n_meas\n",
    "n_pars_ans = 2*n_tot + (3*n_tot - 1)*n_layers # n_tot*(2 + 3*n_layers)\n",
    "\n",
    "pars_ans = arange(n_pars_ans) # uniform(0, 2*pi, n_pars_ans)\n",
    "pars_est = arange(n_pars_ans, n_pars_ans + n_pars_est) # uniform(-1, 1, n_pars_est)\n",
    "pars = concatenate([pars_ans, pars_est])\n",
    "\n",
    "U = hea_cry_rzrx(n_tot, n_layers, pars_ans)\n",
    "H_u = U.conj().T@kron_A_N(diag(pars_est), d_diff)@U\n",
    "\n",
    "\n",
    "\n",
    "pars_dup = duplicate_ansatz(pars, n_tot, n_meas, n_layers)\n",
    "n_pars_est_dup = 2**(2*n_meas)\n",
    "n_pars_ans_dup = 2*2*n_tot + (2*3*n_tot - 1)*n_layers # (2*n_tot)*(2 + 3*n_layers)\n",
    "\n",
    "U_dup = hea_cry_rzrx(2*n_tot, n_layers, pars_dup[:-n_pars_est_dup])\n",
    "H_dup = U_dup.conj().T@kron_A_N(diag(pars_dup[-n_pars_est_dup:]), d_diff)@U_dup\n",
    "\n",
    "print(norm(kron(U, U) - U_dup))\n",
    "print(norm(kron(H_u, H_u) - H_dup))"
   ]
  }
 ],
 "metadata": {
  "kernelspec": {
   "display_name": "Python 3",
   "language": "python",
   "name": "python3"
  },
  "language_info": {
   "codemirror_mode": {
    "name": "ipython",
    "version": 3
   },
   "file_extension": ".py",
   "mimetype": "text/x-python",
   "name": "python",
   "nbconvert_exporter": "python",
   "pygments_lexer": "ipython3",
   "version": "3.11.7"
  }
 },
 "nbformat": 4,
 "nbformat_minor": 5
}
