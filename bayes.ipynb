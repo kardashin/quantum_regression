{
 "cells": [
  {
   "cell_type": "code",
   "execution_count": 1,
   "id": "25c85bd6-b52f-4661-bf3a-c7162ec351c0",
   "metadata": {},
   "outputs": [],
   "source": [
    "from qpe import *\n",
    "from numpy import log\n",
    "\n",
    "import qutip as qp\n",
    "from time import time\n",
    "\n",
    "from numpy import sign, ceil\n",
    "from numpy.random import randint\n",
    "\n",
    "from scipy.stats import unitary_group, gaussian_kde\n",
    "from scipy.integrate import quad\n",
    "\n",
    "import matplotlib\n",
    "import matplotlib.pyplot as plt\n",
    "from matplotlib.colors import LinearSegmentedColormap\n",
    "matplotlib.rcParams['font.family']='serif'\n",
    "matplotlib.rcParams['axes.unicode_minus']=False\n",
    "matplotlib.rcParams.update({'font.size': 22})\n",
    "matplotlib.rc('text', usetex=False)"
   ]
  },
  {
   "cell_type": "code",
   "execution_count": 2,
   "id": "0e073754",
   "metadata": {},
   "outputs": [],
   "source": [
    "def cfi(state_gen_func, state_gen_args, p, povm, n_copies=1, n_ext=0, dp=1e-5):\n",
    "    dm = reduce(kron, [state_gen_func(p, *state_gen_args)]*n_copies + [diag([1] + [0]*(2**(n_ext) - 1))])\n",
    "    dm_p = reduce(kron, [state_gen_func(p + dp, *state_gen_args)]*n_copies + [diag([1] + [0]*(2**(n_ext) - 1))])\n",
    "    dm_m = reduce(kron, [state_gen_func(p - dp, *state_gen_args)]*n_copies + [diag([1] + [0]*(2**(n_ext) - 1))])\n",
    "    fi = 0\n",
    "    for op in povm:\n",
    "        prob = trace(dot(dm, op)).real\n",
    "        if prob > 0:\n",
    "            prob_p = trace(dot(dm_p, op)).real\n",
    "            prob_m = trace(dot(dm_m, op)).real\n",
    "            der = (prob_p - prob_m)/(2*dp)\n",
    "            fi += der**2/prob\n",
    "    return fi\n",
    "\n",
    "def qfi(state_gen_func, state_gen_args, p, n_copies=1, n_ext=0, dp=1e-2):\n",
    "    dm = reduce(kron, [state_gen_func(p, *state_gen_args)]*n_copies + [diag([1] + [0]*(2**(n_ext) - 1))])\n",
    "    dm_p = reduce(kron, [state_gen_func(p + dp, *state_gen_args)]*n_copies + [diag([1] + [0]*(2**(n_ext) - 1))])\n",
    "    fi = 8*(1 - sqrt(fidelity(dm, dm_p))) / dp**2\n",
    "    return fi\n",
    "\n",
    "def qfi_central(state_gen_func, state_gen_args, p, n_copies=1, n_ext=0, dp=1e-2):\n",
    "    dm_p = reduce(kron, [state_gen_func(p + dp, *state_gen_args)]*n_copies + [diag([1] + [0]*(2**(n_ext) - 1))])\n",
    "    dm_m = reduce(kron, [state_gen_func(p - dp, *state_gen_args)]*n_copies + [diag([1] + [0]*(2**(n_ext) - 1))])\n",
    "    fi = 8*(1 - sqrt(fidelity(dm_m, dm_p))) / dp**2/4\n",
    "    return fi"
   ]
  },
  {
   "cell_type": "code",
   "execution_count": 3,
   "id": "80818766",
   "metadata": {},
   "outputs": [],
   "source": [
    "def train_bayes(n_inp, n_layers, a, b, state_gen_func, prior_func, state_gen_args=[], prior_args=[], n_copies=1, n_meas=0, method=\"BFGS\", x0=None, options={}):\n",
    "\n",
    "    n_tot = n_inp*n_copies\n",
    "    d = 2**n_tot\n",
    "        \n",
    "    if n_meas == 0:\n",
    "        n_meas = n_tot\n",
    "    n_pars_est = 2**n_meas\n",
    "    n_pars_ans = (3*n_tot - 1)*n_layers + 2*n_tot # cry  \n",
    "    \n",
    "    d_diff = 0 if n_tot == n_meas else 2**(n_tot - n_meas)\n",
    "    \n",
    "    dms_cop = [reduce(kron, [dm]*n_copies) for dm in dms]\n",
    "\n",
    "    def fun_int(phi, x_est, U):\n",
    "        dm = state_gen_func(phi, *state_gen_args)\n",
    "        dm = reduce(kron, [dm]*n_copies)\n",
    "        dm_u = U@dm@U.conj().T\n",
    "        probs = dm_u.diagonal().real\n",
    "        return np.sum((x_est - phi)**2*probs*prior_func(phi, *prior_args))\n",
    "\n",
    "    # def fun_int(phi, x_est, U):\n",
    "    #     dm = state_gen_func(phi, *state_gen_args)\n",
    "    #     dm = reduce(kron, [dm]*n_copies)\n",
    "    #     dm_u = U@dm@U.conj().T\n",
    "    #     H = diag(x_est) - phi*eye(d)\n",
    "    #     H = H@H\n",
    "    #     return prior_func(phi, *prior_args)*trace(dm_u@H).real\n",
    "    \n",
    "    fvals = []\n",
    "    fval_cont = [0]\n",
    "    def fun(x):\n",
    "        x_ans, x_est = x[:n_pars_ans], x[n_pars_ans:]\n",
    "        U = hea_cry_rzrx(n_tot, n_layers, x_ans)\n",
    "        f = quad(fun_int, a, b, args=(x_est, U))[0]\n",
    "        fval_cont[0] = f\n",
    "        return f\n",
    "        \n",
    "    def callback(x):\n",
    "        fvals.append(fval_cont[0])\n",
    "        print(\"Iteration: %d | Function value: %.8f\" %(len(fvals), fval_cont[0]), end=\"\\r\")\n",
    "        return None\n",
    "    \n",
    "    if method in [\"Nelder-Mead\", \"L-BFGS-B\", \"SLSQP\", \"TNC\", \"Powell\", \"COBYLA\"]:\n",
    "        bounds = [(0, pi)]*n_pars_ans + [(-10, 10)]*n_pars_est\n",
    "    else:\n",
    "        bounds = None\n",
    "    if x0 is None:\n",
    "        x0_ans = normal(pi, 0.01*pi, n_pars_ans)\n",
    "        x0_est = normal(0, 0.01, n_pars_est)\n",
    "        x0 = concatenate([x0_ans, x0_est])\n",
    "    \n",
    "    optimization_result = minimize(fun=fun, x0=x0, bounds=bounds, method=method, callback=callback, options=options) # \"maxiter\": int(1e10)\n",
    "\n",
    "    return fvals, optimization_result"
   ]
  },
  {
   "cell_type": "code",
   "execution_count": 4,
   "id": "88685da9",
   "metadata": {},
   "outputs": [],
   "source": [
    "def aux_info(n_inp, pars, a, b, state_gen_func, prior_func, n_layers, labels, state_gen_args=[], prior_args=[], n_copies=1, n_meas=0, dp=1e-5):\n",
    "\n",
    "    n_tot = n_inp*n_copies\n",
    "    if n_meas == 0:\n",
    "        n_meas = n_tot\n",
    "    \n",
    "    pars_ans = pars[:-2**n_meas]\n",
    "    pars_est = pars[-2**n_meas:]\n",
    "    \n",
    "    U = hea_cry_rzrx(n_tot, n_layers, pars_ans)\n",
    "    projs = [reduce(kron, [diag(line), eye(2**(n_tot - n_meas))]) for line in eye(2**n_meas)]\n",
    "    projs_u = [U.conj().T@proj@U for proj in projs]\n",
    "    H = sum([x*proj for x, proj in zip(pars_est, projs_u)])\n",
    "    H_sq = H@H\n",
    "\n",
    "    # def func_F(phi):\n",
    "    #     CFI = cfi(state_gen_func, state_gen_args, phi, projs_u, n_copies=n_copies, n_ext=0, dp=dp)\n",
    "    #     return CFI*prior_func(phi, *prior_args)\n",
    "    # def func_I(phi):\n",
    "    #     prior_der = (prior_func(phi + dp, *prior_args) - prior_func(phi - dp, *prior_args))/(2*dp)\n",
    "    #     return prior_der**2/prior_func(phi, *prior_args)\n",
    "    # def func_dphi(phi):\n",
    "    #     return prior_func(phi, *prior_args)*phi**2\n",
    "    # def func_QBI(phi):\n",
    "    #     dm = reduce(kron, [state_gen_func(phi, *state_gen_args)]*n_copies)\n",
    "    #     return prior_func(phi, *prior_args)*trace(H_sq@dm).real\n",
    "    \n",
    "    # int_F = quad(func_F, a, b)[0]\n",
    "    # int_I = quad(func_I, a, b)[0]\n",
    "    # CRB = 1/(int_F + int_I)\n",
    "    # QCRB = quad(func_F, a, b)[0] - quad(func_QBI, a, b)[0]\n",
    "\n",
    "    dms = []\n",
    "    dms_der = []\n",
    "    for phi in labels:\n",
    "        dm = reduce(kron, [state_gen_func(phi, *state_gen_args)]*n_copies)\n",
    "        dm_p = reduce(kron, [state_gen_func(phi + dp, *state_gen_args)]*n_copies)\n",
    "        dm_m = reduce(kron, [state_gen_func(phi - dp, *state_gen_args)]*n_copies)\n",
    "        dm_der = (dm_p - dm_m)/(2*dp)\n",
    "        dms.append(dm)\n",
    "        dms_der.append(dm_der)\n",
    "\n",
    "    expecs = []\n",
    "    expecs_der = []\n",
    "    disps = []\n",
    "    for j in range(len(labels)): # take a density matrix from the training set\n",
    "        probs = [trace(dms[j]@proj).real for proj in projs_u]\n",
    "        probs_der = [trace(dms_der[j]@proj).real for proj in projs_u]\n",
    "        expec = sum([out_i*prob_i for out_i, prob_i in zip(pars_est, probs)])\n",
    "        expec_der = sum([out*prob_der for out, prob_der in zip(pars_est, probs_der)])\n",
    "        disp = sum([out_i**2*prob_i for out_i, prob_i in zip(pars_est, probs)]) - expec**2\n",
    "        expecs.append(expec)\n",
    "        expecs_der.append(expec_der)\n",
    "        disps.append(disp)\n",
    "    \n",
    "    return array(expecs), array(expecs_der), array(disps)#, CRB, QCRB#, int_F, int_I, H"
   ]
  },
  {
   "cell_type": "markdown",
   "id": "19453f32-0986-4eeb-9237-faee23a6cf3c",
   "metadata": {},
   "source": [
    "# Unitary"
   ]
  },
  {
   "cell_type": "code",
   "execution_count": 5,
   "id": "f2b1aa5b-9a71-4a4f-8b0d-2dbfb2377ca1",
   "metadata": {},
   "outputs": [],
   "source": [
    "def aux_info_uni_1c(pars, n_layers, labels, n_meas=0):\n",
    "\n",
    "    def uni_dm_1c(p):\n",
    "        return array([[            1/2, (1/2)*exp(-1j*p)],\n",
    "                      [(1/2)*exp(1j*p),              1/2]])\n",
    "    \n",
    "    def uni_dm_der_1c(p):\n",
    "        return array([[                 0, -(1/2)*1j*exp(-1j*p)],\n",
    "                      [(1/2)*1j*exp(1j*p),                    0]])\n",
    "    \n",
    "    n_tot = 1\n",
    "    if n_meas == 0:\n",
    "        n_meas = n_tot\n",
    "    \n",
    "    pars_ans = pars[:-2**n_meas]\n",
    "    pars_est = pars[-2**n_meas:]\n",
    "    \n",
    "    U = hea_cry_rzrx(n_tot, n_layers, pars_ans)\n",
    "    projs = [reduce(kron, [diag(line), eye(2**(n_tot - n_meas))]) for line in eye(2**n_meas)]\n",
    "    projs_u = [U.conj().T@proj@U for proj in projs]\n",
    "    H = sum([x*proj for x, proj in zip(pars_est, projs_u)])\n",
    "    H_sq = H@H\n",
    "\n",
    "    dms = []\n",
    "    dms_der = []\n",
    "    for p in labels:\n",
    "        dms.append(uni_dm_1c(p))\n",
    "        dms_der.append(uni_dm_der_1c(p))\n",
    "\n",
    "    expecs = []\n",
    "    expecs_der = []\n",
    "    disps = []\n",
    "    for j in range(len(labels)): # take a density matrix from the training set\n",
    "        probs = [trace(dms[j]@proj).real for proj in projs_u]\n",
    "        probs_der = [trace(dms_der[j]@proj).real for proj in projs_u]\n",
    "        expec = sum([out_i*prob_i for out_i, prob_i in zip(pars_est, probs)])\n",
    "        expec_der = sum([out*prob_der for out, prob_der in zip(pars_est, probs_der)])\n",
    "        disp = sum([out_i**2*prob_i for out_i, prob_i in zip(pars_est, probs)]) - expec**2\n",
    "        expecs.append(expec)\n",
    "        expecs_der.append(expec_der)\n",
    "        disps.append(disp)\n",
    "    \n",
    "    return array(expecs), array(expecs_der), array(disps)"
   ]
  },
  {
   "cell_type": "code",
   "execution_count": 6,
   "id": "94548b92-7170-4e51-84f3-3200ea5f249e",
   "metadata": {},
   "outputs": [],
   "source": [
    "def aux_info_uni_2c(pars, n_layers, labels, n_meas=0):\n",
    "\n",
    "    def uni_dm_2c(p):\n",
    "        return array([[        1, exp(-1j*p), exp(-1j*p), exp(-2j*p)],\n",
    "                      [exp(1j*p),          1,          1, exp(-1j*p)],\n",
    "                      [exp(1j*p),          1,          1, exp(-1j*p)],\n",
    "                      [exp(2j*p),  exp(1j*p), exp(1j*p),          1]]) / 4\n",
    "    \n",
    "    def uni_dm_der_2c(p):\n",
    "        return array([[                 0, -(1/4)*1j*exp(-1j*p), -(1/4)*1j*exp(-1j*p), -(1/2)*1j*exp(-2j*p)],\n",
    "                      [(1/4)*1j*exp(1j*p),                    0,                    0, -(1/4)*1j*exp(-1j*p)],\n",
    "                      [(1/4)*1j*exp(1j*p),                    0,                    0, -(1/4)*1j*exp(-1j*p)],\n",
    "                      [(1/2)*1j*exp(2j*p),   (1/4)*1j*exp(1j*p),   (1/4)*1j*exp(1j*p),                    0]])\n",
    "    \n",
    "    n_tot = 2\n",
    "    if n_meas == 0:\n",
    "        n_meas = n_tot\n",
    "    \n",
    "    pars_ans = pars[:-2**n_meas]\n",
    "    pars_est = pars[-2**n_meas:]\n",
    "    \n",
    "    U = hea_cry_rzrx(n_tot, n_layers, pars_ans)\n",
    "    projs = [reduce(kron, [diag(line), eye(2**(n_tot - n_meas))]) for line in eye(2**n_meas)]\n",
    "    projs_u = [U.conj().T@proj@U for proj in projs]\n",
    "    H = sum([x*proj for x, proj in zip(pars_est, projs_u)])\n",
    "    H_sq = H@H\n",
    "\n",
    "    dms = []\n",
    "    dms_der = []\n",
    "    for p in labels:\n",
    "        dms.append(uni_dm_2c(p))\n",
    "        dms_der.append(uni_dm_der_2c(p))\n",
    "\n",
    "    expecs = []\n",
    "    expecs_der = []\n",
    "    disps = []\n",
    "    for j in range(len(labels)): # take a density matrix from the training set\n",
    "        probs = [trace(dms[j]@proj).real for proj in projs_u]\n",
    "        probs_der = [trace(dms_der[j]@proj).real for proj in projs_u]\n",
    "        expec = sum([out_i*prob_i for out_i, prob_i in zip(pars_est, probs)])\n",
    "        expec_der = sum([out*prob_der for out, prob_der in zip(pars_est, probs_der)])\n",
    "        disp = sum([out_i**2*prob_i for out_i, prob_i in zip(pars_est, probs)]) - expec**2\n",
    "        expecs.append(expec)\n",
    "        expecs_der.append(expec_der)\n",
    "        disps.append(disp)\n",
    "    \n",
    "    return array(expecs), array(expecs_der), array(disps)"
   ]
  },
  {
   "cell_type": "code",
   "execution_count": 7,
   "id": "877725a6-4482-4e5d-8603-95f70fe6c20a",
   "metadata": {},
   "outputs": [],
   "source": [
    "def zrot_state_gen(p, dm, tq):\n",
    "    n_qubits = int(log2(len(dm)))\n",
    "    dl = 2**tq\n",
    "    dr = 2**(n_qubits - tq - 1)\n",
    "    U = reduce(kron, [eye(dl), expm(-1j*p/2*Z), eye(dr)]) # inefficient\n",
    "    return U@dm@U.conj().T"
   ]
  },
  {
   "cell_type": "code",
   "execution_count": 8,
   "id": "c2cf48c4-b3cb-4165-8f55-257672774212",
   "metadata": {},
   "outputs": [],
   "source": [
    "state_gen_func = zrot_state_gen\n",
    "dm_inp = (I + X)/2\n",
    "tq = 0\n",
    "state_gen_args = [dm_inp, tq]\n",
    "\n",
    "a = 0 + 0\n",
    "b = pi - 0\n",
    "T = 50\n",
    "\n",
    "eps = 1e-2\n",
    "labels = linspace(a + eps, b - eps, T)#[1:-1]\n",
    "dms = [state_gen_func(p, *state_gen_args) for p in labels]"
   ]
  },
  {
   "cell_type": "code",
   "execution_count": 9,
   "id": "8743943f-3e10-4224-8e5c-b2d78ebe9481",
   "metadata": {},
   "outputs": [],
   "source": [
    "n_inp = int(log2(len(dm_inp)))\n",
    "method = \"BFGS\""
   ]
  },
  {
   "cell_type": "code",
   "execution_count": 10,
   "id": "dcccc068-4620-4dff-9815-d57951fbc663",
   "metadata": {},
   "outputs": [
    {
     "name": "stdout",
     "output_type": "stream",
     "text": [
      "Iteration: 16 | Function value: 0.41718230\n",
      " Optimization terminated successfully.\n"
     ]
    }
   ],
   "source": [
    "n_copies_1 = 1\n",
    "n_meas_1 = n_inp*n_copies_1\n",
    "n_layers_1 = 1\n",
    "\n",
    "prior_func = lambda p: 1/(b - a); prior_args = []\n",
    "# dphi = 1/sqrt(2)\n",
    "# prior_func = lambda phi: exp(-(phi**2)/(2*dphi)**2)/sqrt(2*pi*dphi**2); prior_args = []\n",
    "\n",
    "x0 = concatenate([uniform(0, 2*pi, (3*n_inp*n_copies_1 - 1)*n_layers_1 + 2*n_inp*n_copies_1), normal(0., 1, 2**n_meas_1)])\n",
    "\n",
    "fvals_1, result_1 = train_bayes(n_inp, n_layers_1, a, b, state_gen_func=state_gen_func, state_gen_args=state_gen_args, prior_func=prior_func, prior_args=prior_args, n_copies=n_copies_1, n_meas=n_meas_1, method=method, x0=x0, options={})\n",
    "pars_1 = result_1.x\n",
    "\n",
    "print(\"\\n\", result_1.message)"
   ]
  },
  {
   "cell_type": "code",
   "execution_count": 11,
   "id": "794a7383-bcc6-4380-baf6-216631d6739a",
   "metadata": {},
   "outputs": [
    {
     "name": "stdout",
     "output_type": "stream",
     "text": [
      "Iteration: 54 | Function value: 0.28097092\n",
      " Optimization terminated successfully.\n"
     ]
    }
   ],
   "source": [
    "n_copies_2 = 2\n",
    "n_meas_2 = n_inp*n_copies_2\n",
    "n_layers_2 = 2\n",
    "\n",
    "prior_func = lambda p: 1/(b - a); prior_args = []\n",
    "# dphi = 1/sqrt(2)\n",
    "# prior_func = lambda phi: exp(-(phi**2)/(2*dphi)**2)/sqrt(2*pi*dphi**2); prior_args = []\n",
    "\n",
    "x0 = concatenate([uniform(0, 2*pi, (3*n_inp*n_copies_2 - 1)*n_layers_2 + 2*n_inp*n_copies_2), normal(0., 1, 2**n_meas_2)])\n",
    "\n",
    "fvals_2, result_2 = train_bayes(n_inp, n_layers_2, a, b, state_gen_func=state_gen_func, state_gen_args=state_gen_args, prior_func=prior_func, prior_args=prior_args, n_copies=n_copies_2, n_meas=n_meas_2, method=method, x0=x0, options={})\n",
    "pars_2 = result_2.x\n",
    "\n",
    "\n",
    "print(\"\\n\", result_2.message)"
   ]
  },
  {
   "cell_type": "code",
   "execution_count": 12,
   "id": "53907c66-fe5d-4375-b765-538d0f79b509",
   "metadata": {},
   "outputs": [
    {
     "data": {
      "image/png": "[encoded data removed]",
      "text/plain": [
       "<Figure size 700x400 with 1 Axes>"
      ]
     },
     "metadata": {},
     "output_type": "display_data"
    },
    {
     "data": {
      "image/png": "[encoded data removed]",
      "text/plain": [
       "<Figure size 700x400 with 1 Axes>"
      ]
     },
     "metadata": {},
     "output_type": "display_data"
    }
   ],
   "source": [
    "eps = 0.1\n",
    "dp = 1e-7\n",
    "\n",
    "expecs_1, expecs_der_1, disps_1 = aux_info(n_inp, pars_1, a+eps, b-eps, state_gen_func=state_gen_func, state_gen_args=state_gen_args, prior_func=prior_func, n_layers=n_layers_1, labels=labels, n_copies=n_copies_1, n_meas=n_meas_1, dp=dp)\n",
    "expecs_2, expecs_der_2, disps_2 = aux_info(n_inp, pars_2, a+eps, b-eps, state_gen_func=state_gen_func, state_gen_args=state_gen_args, prior_func=prior_func, n_layers=n_layers_2, labels=labels, n_copies=n_copies_2, n_meas=n_meas_2, dp=dp)\n",
    "\n",
    "expecs_1, expecs_der_1, disps_1 = aux_info_uni_1c(pars_1, n_layers_1, labels)\n",
    "expecs_2, expecs_der_2, disps_2 = aux_info_uni_2c(pars_2, n_layers_2, labels)\n",
    "\n",
    "matplotlib.rcParams.update({'font.size': 20})\n",
    "\n",
    "plt.figure(figsize=(7, 4))\n",
    "# plt.plot(labels, expecs, zorder=10)\n",
    "plt.scatter(labels, expecs_1, s=100, zorder=10)\n",
    "plt.scatter(labels, expecs_2, s=100, zorder=10)\n",
    "plt.plot(labels, labels, color=\"black\", linewidth=0.5)\n",
    "plt.xlabel(r\"$\\alpha$\")\n",
    "plt.ylabel(r\"$\\hat{\\alpha}$\")\n",
    "# plt.xticks([0, 1/3, 2/3, 3/3, 4/3], [r\"$0$\", r\"$1/3$\", r\"$2/3$\", r\"$1$\", r\"$4/3$\"]) # for the depolarizing channel\n",
    "# plt.yticks([0, 1/3, 2/3, 3/3, 4/3], [r\"$0$\", r\"$1/3$\", r\"$2/3$\", r\"$1$\", r\"$4/3$\"]) # for the depolarizing channel\n",
    "plt.grid()\n",
    "plt.tight_layout()\n",
    "# plt.savefig(save_path + file_info + \"-est.pdf\", transparent=True, bbox_inches='tight')\n",
    "plt.show()\n",
    "\n",
    "\n",
    "plt.figure(figsize=(7, 4))\n",
    "plt.scatter(labels, disps_1/expecs_der_1**2, s=100, zorder=10)\n",
    "plt.scatter(labels, 2*disps_2/expecs_der_2**2, s=100, zorder=10)\n",
    "plt.plot(labels, [1]*T, color=\"tab:green\", linewidth=5, label=r\"$c\\frac{1}{I_q}$\", zorder=2)\n",
    "plt.ylabel(r\"$\\frac{\\Delta^2 H}{\\left|\\partial_\\alpha \\langle H \\rangle \\right|^2}$\" )\n",
    "plt.xlabel(r\"$\\alpha$\")\n",
    "# plt.xticks([0, 1/3, 2/3, 3/3, 4/3], [r\"$0$\", r\"$1/3$\", r\"$2/3$\", r\"$1$\", r\"$4/3$\"]) # for the depolarizing channel\n",
    "plt.grid()\n",
    "# plt.legend(framealpha=1)\n",
    "plt.tight_layout()\n",
    "# plt.savefig(save_path + file_info + \"-var.pdf\", transparent=True, bbox_inches='tight')\n",
    "# plt.yscale(\"log\")\n",
    "plt.show()"
   ]
  },
  {
   "cell_type": "markdown",
   "id": "d1c4f4bb",
   "metadata": {},
   "source": [
    "# Bell"
   ]
  },
  {
   "cell_type": "code",
   "execution_count": 13,
   "id": "c98b59be",
   "metadata": {},
   "outputs": [],
   "source": [
    "def bell_state_gen(neg, n_inp, return_dm=False):\n",
    "    d = 2**n_inp    \n",
    "    s0n = array([1] + [0]*(d - 1))\n",
    "    s1n = array([0]*(d - 1) + [1])\n",
    "    g = sqrt(max(0, 1 - neg**2)) # cope negative sqrt\n",
    "    v = (sqrt(1 + g)*s0n + sqrt(1 - g)*s1n)/sqrt(2)\n",
    "    if return_dm == False:\n",
    "        return v\n",
    "    else:\n",
    "        return outer(v, v.conj().T)\n",
    "    \n",
    "def bell_state_der_gen(neg, n_inp, return_dm=False):\n",
    "    d = 2**n_inp\n",
    "    s0n = array([1] + [0]*(2**n_inp - 1))\n",
    "    s1n = array([0]*(2**n_inp - 1) + [1])\n",
    "    g_p = sqrt(1 + neg)\n",
    "    g_m = sqrt(1 - neg)\n",
    "    n1 = -N/(2*g_m*g_p*sqrt(1 + g_m*g_p))\n",
    "    n2 =  N/(2*g_m*g_p*sqrt(1 - g_m*g_p))\n",
    "    v_der = (n1*s0n + n2*s1n)/sqrt(2)\n",
    "    if return_dm == False:\n",
    "        return v_der\n",
    "    else:\n",
    "        return outer(v_der, v_der.conj().T)"
   ]
  },
  {
   "cell_type": "code",
   "execution_count": 14,
   "id": "5c675048-e23b-4508-be44-7c576c901aa6",
   "metadata": {},
   "outputs": [],
   "source": [
    "state_gen_func = bell_state_gen\n",
    "n_inp = 2\n",
    "return_dm = True\n",
    "state_gen_args = [n_inp, return_dm]\n",
    "\n",
    "a = 0 + 1e-2\n",
    "b = 1 - 1e-2\n",
    "T = 11\n",
    "\n",
    "labels = linspace(a, b, T)#[1:-1]\n",
    "dms = [state_gen_func(p, *state_gen_args) for p in labels]"
   ]
  },
  {
   "cell_type": "code",
   "execution_count": 15,
   "id": "5d898a5f",
   "metadata": {},
   "outputs": [
    {
     "name": "stdout",
     "output_type": "stream",
     "text": [
      "Iteration: 70 | Function value: 0.07034872\n",
      " Optimization terminated successfully.\n"
     ]
    }
   ],
   "source": [
    "method = \"BFGS\"\n",
    "n_copies = 1\n",
    "n_meas = n_inp*n_copies\n",
    "n_layers = 1\n",
    "\n",
    "dp = 1e-5\n",
    "\n",
    "prior_func = lambda p: 1/(b - a); prior_args = []\n",
    "# dphi = 1/sqrt(2)\n",
    "# prior_func = lambda phi: exp(-(phi**2)/(2*dphi)**2)/sqrt(2*pi*dphi**2); prior_args = []\n",
    "\n",
    "x0 = concatenate([uniform(0, 2*pi, (3*n_inp*n_copies - 1)*n_layers + 2*n_inp*n_copies), normal(0., 1, 2**n_meas)])\n",
    "\n",
    "fvals, result = train_bayes(n_inp, n_layers, a, b, state_gen_func=state_gen_func, state_gen_args=state_gen_args, prior_func=prior_func, prior_args=prior_args, n_copies=n_copies, n_meas=n_meas, method=method, x0=x0, options={})\n",
    "pars = result.x\n",
    "\n",
    "print(\"\\n\", result.message)"
   ]
  },
  {
   "cell_type": "code",
   "execution_count": 16,
   "id": "8478257d-6b19-439e-9da5-d4d82d76e64e",
   "metadata": {},
   "outputs": [],
   "source": [
    "# expecs, expecs_der, disps, CRB, QCRB = aux_info(n_inp, pars, a, b, state_gen_func=state_gen_func, state_gen_args=state_gen_args, prior_func=prior_func, n_layers=n_layers, labels=labels, n_copies=n_copies, n_meas=n_meas, dp=dp)\n",
    "expecs, expecs_der, disps = aux_info(n_inp, pars, a, b, state_gen_func=state_gen_func, state_gen_args=state_gen_args, prior_func=prior_func, n_layers=n_layers, labels=labels, n_copies=n_copies, n_meas=n_meas, dp=dp)"
   ]
  },
  {
   "cell_type": "code",
   "execution_count": 17,
   "id": "34cce786-ceda-48e9-8891-c71718f6b15a",
   "metadata": {},
   "outputs": [
    {
     "name": "stdout",
     "output_type": "stream",
     "text": [
      "n_inp: 2 | n_copies: 1 | n_meas: 2 | n_layers: 1 \n"
     ]
    },
    {
     "data": {
      "image/png": "[encoded data removed]",
      "text/plain": [
       "<Figure size 700x400 with 1 Axes>"
      ]
     },
     "metadata": {},
     "output_type": "display_data"
    }
   ],
   "source": [
    "print(\"n_inp: %d | n_copies: %d | n_meas: %d | n_layers: %d \" %(n_inp, n_copies, n_meas, n_layers))\n",
    "\n",
    "matplotlib.rcParams.update({'font.size': 20})\n",
    "\n",
    "plt.figure(figsize=(7, 4))\n",
    "# plt.plot(labels, expecs, zorder=10)\n",
    "plt.scatter(labels, expecs, s=100, zorder=10)\n",
    "plt.plot(labels, labels, color=\"black\", linewidth=0.5)\n",
    "plt.xlabel(r\"$\\alpha$\")\n",
    "plt.ylabel(r\"$\\mathsf{a}$\")\n",
    "# plt.xticks([0, 1/3, 2/3, 3/3, 4/3], [r\"$0$\", r\"$1/3$\", r\"$2/3$\", r\"$1$\", r\"$4/3$\"]) # for the depolarizing channel\n",
    "# plt.yticks([0, 1/3, 2/3, 3/3, 4/3], [r\"$0$\", r\"$1/3$\", r\"$2/3$\", r\"$1$\", r\"$4/3$\"]) # for the depolarizing channel\n",
    "plt.grid()\n",
    "plt.tight_layout()\n",
    "# plt.savefig(save_path + file_info + \"-est.pdf\", transparent=True, bbox_inches='tight')\n",
    "plt.show()"
   ]
  },
  {
   "cell_type": "code",
   "execution_count": 18,
   "id": "2ade4a3d-cf1d-4cb2-98c8-86f1cd53e82b",
   "metadata": {},
   "outputs": [
    {
     "data": {
      "image/png": "[encoded data removed]",
      "text/plain": [
       "<Figure size 700x400 with 1 Axes>"
      ]
     },
     "metadata": {},
     "output_type": "display_data"
    }
   ],
   "source": [
    "biass = expecs - labels\n",
    "\n",
    "plt.figure(figsize=(7, 4))\n",
    "plt.scatter(labels, disps/expecs_der**2, s=100, zorder=10)\n",
    "# plt.scatter(labels, disps + biass**2, s=100, zorder=10)\n",
    "# plt.scatter(labels, disps, s=100, zorder=10)\n",
    "plt.ylabel(r\"$\\frac{\\Delta^2 H}{\\left|\\partial_\\alpha \\langle H \\rangle \\right|^2}$\" )\n",
    "plt.xlabel(r\"$\\alpha$\")\n",
    "# plt.xticks([0, 1/3, 2/3, 3/3, 4/3], [r\"$0$\", r\"$1/3$\", r\"$2/3$\", r\"$1$\", r\"$4/3$\"]) # for the depolarizing channel\n",
    "plt.grid()\n",
    "# plt.legend(framealpha=1)\n",
    "plt.tight_layout()\n",
    "# plt.savefig(save_path + file_info + \"-var.pdf\", transparent=True, bbox_inches='tight')\n",
    "# plt.yscale(\"log\")\n",
    "plt.show()"
   ]
  },
  {
   "cell_type": "code",
   "execution_count": null,
   "id": "2cc7fe60",
   "metadata": {},
   "outputs": [],
   "source": []
  },
  {
   "cell_type": "code",
   "execution_count": null,
   "id": "517daadd",
   "metadata": {},
   "outputs": [],
   "source": []
  }
 ],
 "metadata": {
  "kernelspec": {
   "display_name": "Python 3",
   "language": "python",
   "name": "python3"
  },
  "language_info": {
   "codemirror_mode": {
    "name": "ipython",
    "version": 3
   },
   "file_extension": ".py",
   "mimetype": "text/x-python",
   "name": "python",
   "nbconvert_exporter": "python",
   "pygments_lexer": "ipython3",
   "version": "3.11.7"
  }
 },
 "nbformat": 4,
 "nbformat_minor": 5
}
